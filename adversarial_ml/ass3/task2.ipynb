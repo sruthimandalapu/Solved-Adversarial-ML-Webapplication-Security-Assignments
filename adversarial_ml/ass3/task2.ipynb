{
 "cells": [
  {
   "cell_type": "markdown",
   "metadata": {
    "id": "oXS34BaP4hFp"
   },
   "source": [
    "#Use a proper tensorflow version\n",
    "Our model was build on TF2.14 and it does cause some compatibility issues with TF2.17 so make sure you use the right version"
   ]
  },
  {
   "cell_type": "code",
   "execution_count": 1,
   "metadata": {
    "colab": {
     "base_uri": "https://localhost:8080/"
    },
    "id": "AVrdszHO4W8T",
    "outputId": "de522f34-96cf-4f84-91cf-deeef918a2be"
   },
   "outputs": [
    {
     "name": "stderr",
     "output_type": "stream",
     "text": [
      "C:\\Users\\asheikhz\\AppData\\Local\\anaconda3\\envs\\tf\\lib\\site-packages\\scipy\\__init__.py:146: UserWarning: A NumPy version >=1.16.5 and <1.23.0 is required for this version of SciPy (detected version 1.26.4\n",
      "  warnings.warn(f\"A NumPy version >={np_minversion} and <{np_maxversion}\"\n"
     ]
    },
    {
     "name": "stdout",
     "output_type": "stream",
     "text": [
      "2.10.0\n"
     ]
    }
   ],
   "source": [
    "#Check tf version\n",
    "import tensorflow as tf\n",
    "#print(tf.__version__)\n",
    "\n",
    "#The following force you to use tensorflow 2.14 but you need to restart. You may comment it if you know you are using 2.14\n",
    "##Make sure you down grade!! otherwise, some part will fail due to compatibility.\n",
    "#!pip3 install --upgrade tensorflow==2.14.0\n",
    "print(tf.__version__)"
   ]
  },
  {
   "cell_type": "markdown",
   "metadata": {
    "id": "iHOSNj1B41Mp"
   },
   "source": [
    "#Get the dataset"
   ]
  },
  {
   "cell_type": "code",
   "execution_count": 2,
   "metadata": {
    "colab": {
     "base_uri": "https://localhost:8080/"
    },
    "id": "FgNawstG47ip",
    "outputId": "9893e897-c641-4d24-f8af-e2e7466fa178"
   },
   "outputs": [
    {
     "name": "stdout",
     "output_type": "stream",
     "text": [
      "Mounted at /content/drive\n"
     ]
    }
   ],
   "source": [
    "# mount google drive on your runtime using and authorization code.\n",
    "# more details here: https://colab.research.google.com/notebooks/io.ipynb\n",
    "from google.colab import drive\n",
    "drive.mount('/content/drive')"
   ]
  },
  {
   "cell_type": "code",
   "execution_count": 3,
   "metadata": {
    "id": "tJGFrqJL48eh"
   },
   "outputs": [],
   "source": [
    "#Set directories correctly"
   ]
  },
  {
   "cell_type": "code",
   "execution_count": 2,
   "metadata": {
    "id": "T6NoHeZj5C5N"
   },
   "outputs": [],
   "source": [
    "# Path to the directory containing the project files (CHANGE THIS PATH TO THE DIRECTORY ON YOUR COMPUTER)\n",
    "import os\n",
    "PROJECT_ROOT_DIR = os.getcwd() + '/'\n",
    "\n",
    "# Path to the directory containing the dataset relative to project file\n",
    "DATA_DIR = 'data\\\\'\n",
    "\n",
    "#path to the directory you want to use for saving models relative to the project file\n",
    "MODEL_DIR = r'C:\\Users\\asheikhz\\Desktop\\Assignment2'"
   ]
  },
  {
   "cell_type": "code",
   "execution_count": 3,
   "metadata": {
    "id": "CR4Qlshh5DrN"
   },
   "outputs": [],
   "source": [
    "# Funciton for loading the dataset\n",
    "# Code from advml-traffic-sign (https://github.com/inspire-group/advml-traffic-sign)\n",
    "def load_dataset_GTSRB(n_channel=3, train_file_name=None):\n",
    "    \"\"\"\n",
    "    Load GTSRB data as a (datasize) x (channels) x (height) x (width) numpy\n",
    "    matrix. Each pixel is rescaled to the range [0,1].\n",
    "    \"\"\"\n",
    "\n",
    "    def load_pickled_data(file, columns):\n",
    "        \"\"\"\n",
    "        Loads pickled training and test data.\n",
    "\n",
    "        Parameters\n",
    "        ----------\n",
    "        file    : string\n",
    "                          Name of the pickle file.\n",
    "        columns : list of strings\n",
    "                          List of columns in pickled data we're interested in.\n",
    "\n",
    "        Returns\n",
    "        -------\n",
    "        A tuple of datasets for given columns.\n",
    "        \"\"\"\n",
    "\n",
    "        with open(file, mode='rb') as f:\n",
    "            dataset = pickle.load(f)\n",
    "        return tuple(map(lambda c: dataset[c], columns))\n",
    "\n",
    "    def preprocess(x, n_channel):\n",
    "        \"\"\"\n",
    "        Preprocess dataset: turn images into grayscale if specified, normalize\n",
    "        input space to [0,1], reshape array to appropriate shape for NN model\n",
    "        \"\"\"\n",
    "\n",
    "        if n_channel == 3:\n",
    "            # Scale features to be in [0, 1]\n",
    "            x = (x / 255.).astype(np.float32)\n",
    "        else:\n",
    "            # Convert to grayscale, e.g. single Y channel\n",
    "            x = 0.299 * x[:, :, :, 0] + 0.587 * x[:, :, :, 1] + \\\n",
    "                0.114 * x[:, :, :, 2]\n",
    "            # Scale features to be in [0, 1]\n",
    "            x = (x / 255.).astype(np.float32)\n",
    "            x = x[:, :, :, np.newaxis]\n",
    "        return x\n",
    "\n",
    "    # Load pickle dataset\n",
    "    if train_file_name is None:\n",
    "        x_train, y_train = load_pickled_data(\n",
    "            PROJECT_ROOT_DIR + DATA_DIR + 'train.p', ['features', 'labels'])\n",
    "    else:\n",
    "        x_train, y_train = load_pickled_data(\n",
    "            PROJECT_ROOT_DIR + DATA_DIR + train_file_name, ['features', 'labels'])\n",
    "    x_val, y_val = load_pickled_data(\n",
    "        PROJECT_ROOT_DIR + DATA_DIR + 'valid.p', ['features', 'labels'])\n",
    "    x_test, y_test = load_pickled_data(\n",
    "        PROJECT_ROOT_DIR + DATA_DIR + 'test.p', ['features', 'labels'])\n",
    "\n",
    "    # Preprocess loaded data\n",
    "    x_train = preprocess(x_train, n_channel)\n",
    "    x_val = preprocess(x_val, n_channel)\n",
    "    x_test = preprocess(x_test, n_channel)\n",
    "    return x_train, y_train, x_val, y_val, x_test, y_test"
   ]
  },
  {
   "cell_type": "code",
   "execution_count": 4,
   "metadata": {
    "id": "BREhI6Eu5F2Q"
   },
   "outputs": [],
   "source": [
    "import pickle\n",
    "import numpy as np\n",
    "# Load the images and labels. These images are RGB so we have 3 channels\n",
    "imgs_train, labels_train, imgs_val, labels_val, imgs_test, labels_test = load_dataset_GTSRB(n_channel=3)"
   ]
  },
  {
   "cell_type": "markdown",
   "metadata": {
    "id": "8jMLxK1-5Idu"
   },
   "source": [
    "#Load the built model from Assignment 1 (Already on blackboard)"
   ]
  },
  {
   "cell_type": "code",
   "execution_count": 5,
   "metadata": {
    "colab": {
     "base_uri": "https://localhost:8080/"
    },
    "id": "dWHxthXD5Rcg",
    "outputId": "edd2da46-4a5d-4a44-fec4-c9a80ebf7f69"
   },
   "outputs": [],
   "source": [
    "## Load the saved the model\n",
    "from tensorflow.keras.models import load_model\n",
    "\n",
    "\n",
    "\n",
    "#load our already trained model\n",
    "# Your earlier directories should change to match this one\n",
    "#You should be able to load the model once trained. The following line is used for that.\n",
    "model = load_model(MODEL_DIR +'\\VGG_best.h5')"
   ]
  },
  {
   "cell_type": "markdown",
   "metadata": {
    "id": "j1YlYwHF5dkA"
   },
   "source": [
    "#Some constants that you might need\n",
    "It is not neccessary that you will use all"
   ]
  },
  {
   "cell_type": "code",
   "execution_count": 6,
   "metadata": {
    "id": "g1T2kO385c4z"
   },
   "outputs": [],
   "source": [
    "# Set constants (GTSRB)\n",
    "NUM_LABELS = 43                             # Number of labels or classes for classification\n",
    "BATCH_SIZE = 128                            # Size of batch\n",
    "HEIGHT = 32                                 # Height of input image\n",
    "WIDTH = 32                                  # Width of input image\n",
    "N_CHANNEL = 3                               # Number of channels\n",
    "OUTPUT_DIM = 43                             # Number of output dimension\n",
    "\n",
    "# Set training hyperparameters\n",
    "NUM_EPOCH = 50                            # Number of epoch to train\n",
    "LR = 0.0002                                 # Learning rate\n",
    "RBW = True #restore best weights\n",
    "PATIENCE = 5# how many epochs between improvements\n",
    "sample_size = 100\n",
    "alpha = 0.001\n",
    "INPUT_SHAPE = (HEIGHT, WIDTH, N_CHANNEL)  # Input shape of model\n",
    "IMG_SHAPE = (HEIGHT, WIDTH, N_CHANNEL)"
   ]
  },
  {
   "cell_type": "markdown",
   "metadata": {
    "id": "biWtvVpy5zzK"
   },
   "source": [
    "# setting up labels"
   ]
  },
  {
   "cell_type": "code",
   "execution_count": 7,
   "metadata": {
    "colab": {
     "base_uri": "https://localhost:8080/"
    },
    "id": "WJMiQebv5nvV",
    "outputId": "191cef88-03a9-4852-c215-0c9b9434edc8"
   },
   "outputs": [
    {
     "name": "stdout",
     "output_type": "stream",
     "text": [
      "Labels train shape: (34799,)\n",
      "Labels train catagorical shape: (34799, 43)\n",
      "\n",
      "Labels Adver shape: (500,)\n",
      "Labels Adver catagorical shape: (500, 43)\n",
      "Imgs Adver shape: (500, 32, 32, 3)\n"
     ]
    }
   ],
   "source": [
    "\n",
    "from tensorflow.keras.utils import to_categorical\n",
    "\n",
    "#Convert the labels to one-hot encoding (to input to the models)\n",
    "\n",
    "#Use the following sub-test dataset for your certified training\n",
    "imgs_sub_test = imgs_test[0:500,:,:,:].copy()\n",
    "labels_adv = labels_test[0:500].copy()\n",
    "\n",
    "\n",
    "\n",
    "\n",
    "labels_train_cat = to_categorical(labels_train, NUM_LABELS)\n",
    "labels_test_cat = to_categorical(labels_test, NUM_LABELS)\n",
    "labels_val_cat = to_categorical(labels_val, NUM_LABELS)\n",
    "\n",
    "#for testing adversarial inputs\n",
    "labels_adv_cat = to_categorical(labels_adv,NUM_LABELS)\n",
    "\n",
    "print('Labels train shape: {}'.format(labels_train.shape))\n",
    "print('Labels train catagorical shape: {}\\n'.format(labels_train_cat.shape))\n",
    "print('Labels Adver shape: {}'.format(labels_adv.shape))\n",
    "print('Labels Adver catagorical shape: {}'.format(labels_adv_cat.shape))\n",
    "\n",
    "print('Imgs Adver shape: {}'.format(imgs_sub_test.shape))"
   ]
  },
  {
   "cell_type": "markdown",
   "metadata": {
    "id": "xEzJaepK6Bhl"
   },
   "source": [
    "#Install ART if needed"
   ]
  },
  {
   "cell_type": "code",
   "execution_count": 10,
   "metadata": {
    "colab": {
     "base_uri": "https://localhost:8080/"
    },
    "id": "uHszEWtc5-dg",
    "outputId": "25f93e67-fb55-4f86-d39b-c46122f02782"
   },
   "outputs": [
    {
     "name": "stdout",
     "output_type": "stream",
     "text": [
      "Collecting adversarial-robustness-toolbox\n",
      "  Downloading adversarial_robustness_toolbox-1.18.2-py3-none-any.whl.metadata (11 kB)\n",
      "Requirement already satisfied: numpy>=1.18.0 in /usr/local/lib/python3.10/dist-packages (from adversarial-robustness-toolbox) (1.26.4)\n",
      "Requirement already satisfied: scipy>=1.4.1 in /usr/local/lib/python3.10/dist-packages (from adversarial-robustness-toolbox) (1.13.1)\n",
      "Requirement already satisfied: scikit-learn>=0.22.2 in /usr/local/lib/python3.10/dist-packages (from adversarial-robustness-toolbox) (1.5.2)\n",
      "Requirement already satisfied: six in /usr/local/lib/python3.10/dist-packages (from adversarial-robustness-toolbox) (1.16.0)\n",
      "Requirement already satisfied: setuptools in /usr/local/lib/python3.10/dist-packages (from adversarial-robustness-toolbox) (75.1.0)\n",
      "Requirement already satisfied: tqdm in /usr/local/lib/python3.10/dist-packages (from adversarial-robustness-toolbox) (4.66.6)\n",
      "Requirement already satisfied: joblib>=1.2.0 in /usr/local/lib/python3.10/dist-packages (from scikit-learn>=0.22.2->adversarial-robustness-toolbox) (1.4.2)\n",
      "Requirement already satisfied: threadpoolctl>=3.1.0 in /usr/local/lib/python3.10/dist-packages (from scikit-learn>=0.22.2->adversarial-robustness-toolbox) (3.5.0)\n",
      "Downloading adversarial_robustness_toolbox-1.18.2-py3-none-any.whl (1.7 MB)\n",
      "\u001b[?25l   \u001b[90m━━━━━━━━━━━━━━━━━━━━━━━━━━━━━━━━━━━━━━━━\u001b[0m \u001b[32m0.0/1.7 MB\u001b[0m \u001b[31m?\u001b[0m eta \u001b[36m-:--:--\u001b[0m\r",
      "\u001b[2K   \u001b[91m━━━━━━━━━━━━━━━━━━━━━━━━━━━━━━━━━━━━━━━\u001b[0m\u001b[91m╸\u001b[0m \u001b[32m1.7/1.7 MB\u001b[0m \u001b[31m94.2 MB/s\u001b[0m eta \u001b[36m0:00:01\u001b[0m\r",
      "\u001b[2K   \u001b[90m━━━━━━━━━━━━━━━━━━━━━━━━━━━━━━━━━━━━━━━━\u001b[0m \u001b[32m1.7/1.7 MB\u001b[0m \u001b[31m44.2 MB/s\u001b[0m eta \u001b[36m0:00:00\u001b[0m\n",
      "\u001b[?25hInstalling collected packages: adversarial-robustness-toolbox\n",
      "Successfully installed adversarial-robustness-toolbox-1.18.2\n"
     ]
    }
   ],
   "source": [
    "#Install ART\n",
    "!pip3 install adversarial-robustness-toolbox"
   ]
  },
  {
   "cell_type": "markdown",
   "metadata": {
    "id": "zQoee7X36RA-"
   },
   "source": [
    "#Some imports.\n",
    "You might need more"
   ]
  },
  {
   "cell_type": "code",
   "execution_count": 8,
   "metadata": {
    "id": "g7WT4z2n6VTx"
   },
   "outputs": [
    {
     "name": "stderr",
     "output_type": "stream",
     "text": [
      "C:\\Users\\asheikhz\\AppData\\Local\\anaconda3\\envs\\tf\\lib\\site-packages\\tqdm\\auto.py:21: TqdmWarning: IProgress not found. Please update jupyter and ipywidgets. See https://ipywidgets.readthedocs.io/en/stable/user_install.html\n",
      "  from .autonotebook import tqdm as notebook_tqdm\n"
     ]
    }
   ],
   "source": [
    "from art.estimators.classification import TensorFlowV2Classifier\n",
    "\n",
    "import numpy as np\n",
    "%matplotlib inline\n",
    "import matplotlib.pyplot as plt"
   ]
  },
  {
   "cell_type": "markdown",
   "metadata": {
    "id": "Ezm2XmYc8YB7"
   },
   "source": [
    "##Task 2\n",
    "\n",
    "Now, let's do some privacy attacks. We will focus on Membership inference attacks. This task will implement label-only attacks, while the next will implement shadow modeling. As discussed in class, the label-only attack is developed based on the fact that it costs an attacker so much to generate a successful adversarial sample for a member sample. In contrast, the cost will be much less for a non-member sample. Thus, it uses HopSkipJump to generate a successful adversarial sample and then measure the perturbation using the L2 norm. If the perturbation is above a threshold, it will be classified as a member; if not, it will be classified as a non-member. Hence, we will follow the following steps to perform the attack (Your reference code is [this notebook](https://github.com/Trusted-AI/adversarial-robustness-toolbox/blob/main/notebooks/label_only_membership_inference.ipynb)):\n",
    "\n",
    "1-\tGenerate a dataset (already given): The training and testing datasets are merged into one, with the training classified as members and the testing as non-members. We picked 1500 samples from this dataset to build our attack model.\n",
    "\n",
    "\n",
    "2-\tCalculate the threshold (to be implemented by you): Your task here is to use existing implementations in ART to calculate/calibrate the threshold. All parameters are given to you in the code (in comments).\n",
    "\n",
    "3-\tInfer the data: Now, use the provided 1500 samples to predict whether they are members. Then, compare your performance to the ground truth and present the results.\n",
    "\n",
    "\n",
    "One parameter you will need to set is the maximum number of queries (used in step 2). Set this parameter to 5 and 10. All that is needed is to answer the questions below.\n",
    "\n",
    "\n",
    "##Note on resources:\n",
    "It takes time to generate the adversarial examples. A good GPU computer will take you around 1-3 hours per round. Thus, plan your time accordingly.\n"
   ]
  },
  {
   "cell_type": "markdown",
   "metadata": {
    "id": "_nlFS48g87m6"
   },
   "source": [
    "#Generate a dataset"
   ]
  },
  {
   "cell_type": "code",
   "execution_count": 9,
   "metadata": {
    "id": "U9dwyFm-8q8A"
   },
   "outputs": [],
   "source": [
    "##Some variables to set  number of samples used to calibrate distance threshold\n",
    "x = np.concatenate([imgs_train, imgs_test]) #Merge train and test dataset\n",
    "y = np.concatenate([labels_train_cat, labels_test_cat]) #Merge train and test dataset\n",
    "training_sample = np.array([1] * len(imgs_train) + [0] * len(imgs_test)) #Class label for the attack model training. What does it say?\n",
    "\n",
    "from numpy.random import choice\n",
    "\n",
    "##Random samples to be used for training our attack model\n",
    "# evaluation data\n",
    "n = 1500\n",
    "eval_data_idx = choice(len(x), n) #choose 1500 of the samples\n",
    "x_eval, y_eval = x[eval_data_idx], y[eval_data_idx] #creating your training dataset for the attack model\n",
    "eval_label = training_sample[eval_data_idx] #creating your training label for the attack model"
   ]
  },
  {
   "cell_type": "markdown",
   "metadata": {
    "id": "dV5_WvOK959m"
   },
   "source": [
    "#Calculate the threshold"
   ]
  },
  {
   "cell_type": "code",
   "execution_count": 10,
   "metadata": {
    "id": "wFdkSjWTrJ-U"
   },
   "outputs": [
    {
     "name": "stderr",
     "output_type": "stream",
     "text": [
      "HopSkipJump: 100%|███████████████████████████████████████████████████████████████████| 200/200 [29:09<00:00,  8.75s/it]\n",
      "HopSkipJump:   0%|                                                                              | 0/38 [00:00<?, ?it/s]C:\\Users\\asheikhz\\AppData\\Local\\anaconda3\\envs\\tf\\lib\\site-packages\\art\\attacks\\evasion\\hop_skip_jump.py:606: RuntimeWarning: invalid value encountered in divide\n",
      "  rnd_noise = (eval_samples - current_sample) / delta\n",
      "HopSkipJump:  11%|███████▎                                                              | 4/38 [00:27<04:17,  7.57s/it]C:\\Users\\asheikhz\\AppData\\Local\\anaconda3\\envs\\tf\\lib\\site-packages\\art\\attacks\\evasion\\hop_skip_jump.py:626: RuntimeWarning: invalid value encountered in divide\n",
      "  result = grad / np.linalg.norm(grad)\n",
      "HopSkipJump: 100%|█████████████████████████████████████████████████████████████████████| 38/38 [03:31<00:00,  5.55s/it]\n",
      "HopSkipJump: 100%|█████████████████████████████████████████████████████████████████████| 31/31 [02:27<00:00,  4.77s/it]\n",
      "HopSkipJump: 100%|█████████████████████████████████████████████████████████████████████| 30/30 [02:15<00:00,  4.50s/it]\n",
      "HopSkipJump: 100%|█████████████████████████████████████████████████████████████████████| 29/29 [02:28<00:00,  5.11s/it]\n"
     ]
    }
   ],
   "source": [
    "import torch.optim as optim\n",
    "from art.attacks.inference.membership_inference import LabelOnlyDecisionBoundary\n",
    "from sklearn.metrics import accuracy_score\n",
    "from art.estimators.classification.pytorch import PyTorchClassifier\n",
    "from torch import nn\n",
    "# criterion = nn.CrossEntropyLoss()\n",
    "optimizer = tf.keras.optimizers.Adam(learning_rate=0.001)\n",
    "loss_object = tf.keras.losses.CategoricalCrossentropy(from_logits=False)\n",
    "art_model = TensorFlowV2Classifier(\n",
    "    model=model,\n",
    "    nb_classes=NUM_LABELS,\n",
    "    input_shape=INPUT_SHAPE,\n",
    "    loss_object=loss_object,\n",
    "    optimizer=optimizer,\n",
    "    clip_values=(0, 1)\n",
    ")\n",
    "\n",
    "# Members and Non-members accuracy at queries = 5\n",
    "mia_label_only_unsupervised = LabelOnlyDecisionBoundary(art_model)\n",
    "mia_label_only_unsupervised.calibrate_distance_threshold_unsupervised(top_t=20, num_samples=200, max_queries=5, verbose=True, batch_size=256)"
   ]
  },
  {
   "cell_type": "code",
   "execution_count": 11,
   "metadata": {},
   "outputs": [
    {
     "name": "stderr",
     "output_type": "stream",
     "text": [
      "HopSkipJump: 100%|███████████████████████████████████████████████████████████████| 1500/1500 [4:05:05<00:00,  9.80s/it]\n"
     ]
    }
   ],
   "source": [
    "pred_label_unsupervised = mia_label_only_unsupervised.infer(x_eval, y_eval)"
   ]
  },
  {
   "cell_type": "code",
   "execution_count": 12,
   "metadata": {
    "colab": {
     "base_uri": "https://localhost:8080/",
     "height": 116,
     "referenced_widgets": [
      "533d9f3ae6b848eeb41d19dc7e03299c",
      "1f8b21318cf8494fb1a330963659f4ec",
      "7d182d26147d420f94e9d54f78121fa6",
      "d1a73132855146e9830cef9d3d6069ce",
      "c0e910c30faf4f27b9f9ca31121d2797",
      "216956ee5f284cd2b6de0517325a1d40",
      "6857de3ed87f48d5a48cea4f2dedbfdb",
      "b619854f940f493db89c9fe070d5de01",
      "1d68acf9f3f043d09ef1a56ee3857a1f",
      "60abd44c3344461cbe92aa446d055a80",
      "e5e0f74653d54a15b075459a5af4ba44",
      "89ae522d22e941e8b2b51cc08f37a5bc",
      "b4e3ec170fc241c3ad99b189ced57554",
      "f05bbca217d24064b355423b22ababea",
      "b72c5fe733914e78abae915a8ad0c885",
      "2000887bbd1842dbb5d8d934d556ce69",
      "7ec3bb857f854133a989f0b68c5b3626",
      "f811a5c876bc452ab3a4413b901bad33",
      "bc598e4145f1490791f3b200e2156344",
      "a8b8bc902d51463e84553222d4ccb651",
      "60d4c03167484cd68e7555483e3f9899",
      "e2b5c8e2f9bb47a7bf78c254a2535e24"
     ]
    },
    "id": "Q8rP_H2y8cwQ",
    "outputId": "0c45d5b3-ca46-42dd-e20d-33bcafeefa91"
   },
   "outputs": [
    {
     "name": "stdout",
     "output_type": "stream",
     "text": [
      "Members Accuracy: 0.887569\n",
      "Non Members Accuracy: 0.152709\n",
      "Overall Accuracy: 0.688667\n"
     ]
    }
   ],
   "source": [
    "members_accuracy = accuracy_score(eval_label[eval_label == 1], pred_label_unsupervised[eval_label == 1])\n",
    "non_members_accuracy = accuracy_score(eval_label[eval_label == 0], pred_label_unsupervised[eval_label == 0])\n",
    "overall_accuracy = accuracy_score(eval_label, pred_label_unsupervised)\n",
    "print(\"Members Accuracy: %f\" % members_accuracy)\n",
    "print(\"Non Members Accuracy: %f\" % non_members_accuracy)\n",
    "print(\"Overall Accuracy: %f\" % overall_accuracy)"
   ]
  },
  {
   "cell_type": "code",
   "execution_count": 13,
   "metadata": {},
   "outputs": [
    {
     "name": "stderr",
     "output_type": "stream",
     "text": [
      "HopSkipJump: 100%|███████████████████████████████████████████████████████████████████| 200/200 [29:16<00:00,  8.78s/it]\n",
      "HopSkipJump:   2%|█▍                                                                    | 1/48 [00:08<06:37,  8.45s/it]C:\\Users\\asheikhz\\AppData\\Local\\anaconda3\\envs\\tf\\lib\\site-packages\\art\\attacks\\evasion\\hop_skip_jump.py:606: RuntimeWarning: invalid value encountered in divide\n",
      "  rnd_noise = (eval_samples - current_sample) / delta\n",
      "HopSkipJump:  25%|█████████████████▎                                                   | 12/48 [01:47<05:39,  9.42s/it]C:\\Users\\asheikhz\\AppData\\Local\\anaconda3\\envs\\tf\\lib\\site-packages\\art\\attacks\\evasion\\hop_skip_jump.py:626: RuntimeWarning: invalid value encountered in divide\n",
      "  result = grad / np.linalg.norm(grad)\n",
      "HopSkipJump: 100%|█████████████████████████████████████████████████████████████████████| 48/48 [06:28<00:00,  8.10s/it]\n",
      "HopSkipJump: 100%|█████████████████████████████████████████████████████████████████████| 39/39 [05:03<00:00,  7.79s/it]\n",
      "HopSkipJump: 100%|█████████████████████████████████████████████████████████████████████| 36/36 [04:03<00:00,  6.78s/it]\n",
      "HopSkipJump: 100%|█████████████████████████████████████████████████████████████████████| 34/34 [03:36<00:00,  6.36s/it]\n",
      "HopSkipJump: 100%|█████████████████████████████████████████████████████████████████████| 33/33 [03:54<00:00,  7.10s/it]\n",
      "HopSkipJump: 100%|█████████████████████████████████████████████████████████████████████| 32/32 [03:20<00:00,  6.25s/it]\n",
      "HopSkipJump: 100%|█████████████████████████████████████████████████████████████████████| 32/32 [03:57<00:00,  7.44s/it]\n",
      "HopSkipJump: 100%|█████████████████████████████████████████████████████████████████████| 31/31 [03:23<00:00,  6.57s/it]\n",
      "HopSkipJump: 100%|█████████████████████████████████████████████████████████████████████| 30/30 [03:36<00:00,  7.23s/it]\n"
     ]
    }
   ],
   "source": [
    "mia_label_only_unsupervised = LabelOnlyDecisionBoundary(art_model)\n",
    "mia_label_only_unsupervised.calibrate_distance_threshold_unsupervised(top_t=20, num_samples=200, max_queries=10, verbose=True, batch_size=256)"
   ]
  },
  {
   "cell_type": "code",
   "execution_count": 14,
   "metadata": {},
   "outputs": [
    {
     "name": "stderr",
     "output_type": "stream",
     "text": [
      "HopSkipJump: 100%|███████████████████████████████████████████████████████████████| 1500/1500 [4:05:01<00:00,  9.80s/it]\n"
     ]
    }
   ],
   "source": [
    "pred_label_unsupervised = mia_label_only_unsupervised.infer(x_eval, y_eval)"
   ]
  },
  {
   "cell_type": "code",
   "execution_count": 15,
   "metadata": {
    "id": "0Jh1J47ZTKPs"
   },
   "outputs": [
    {
     "name": "stdout",
     "output_type": "stream",
     "text": [
      "Members Accuracy: 0.898537\n",
      "Non Members Accuracy: 0.133005\n",
      "Overall Accuracy: 0.691333\n"
     ]
    }
   ],
   "source": [
    "# Members and Non-members accuracy at queries = 10\n",
    "members_accuracy = accuracy_score(eval_label[eval_label == 1], pred_label_unsupervised[eval_label == 1])\n",
    "non_members_accuracy = accuracy_score(eval_label[eval_label == 0], pred_label_unsupervised[eval_label == 0])\n",
    "overall_accuracy = accuracy_score(eval_label, pred_label_unsupervised)\n",
    "print(\"Members Accuracy: %f\" % members_accuracy)\n",
    "print(\"Non Members Accuracy: %f\" % non_members_accuracy)\n",
    "print(\"Overall Accuracy: %f\" % overall_accuracy)"
   ]
  },
  {
   "cell_type": "code",
   "execution_count": null,
   "metadata": {},
   "outputs": [],
   "source": []
  }
 ],
 "metadata": {
  "accelerator": "GPU",
  "colab": {
   "gpuType": "T4",
   "provenance": []
  },
  "kernelspec": {
   "display_name": "tf",
   "language": "python",
   "name": "tf"
  },
  "language_info": {
   "codemirror_mode": {
    "name": "ipython",
    "version": 3
   },
   "file_extension": ".py",
   "mimetype": "text/x-python",
   "name": "python",
   "nbconvert_exporter": "python",
   "pygments_lexer": "ipython3",
   "version": "3.10.15"
  },
  "widgets": {
   "application/vnd.jupyter.widget-state+json": {
    "1d68acf9f3f043d09ef1a56ee3857a1f": {
     "model_module": "@jupyter-widgets/controls",
     "model_module_version": "1.5.0",
     "model_name": "ProgressStyleModel",
     "state": {
      "_model_module": "@jupyter-widgets/controls",
      "_model_module_version": "1.5.0",
      "_model_name": "ProgressStyleModel",
      "_view_count": null,
      "_view_module": "@jupyter-widgets/base",
      "_view_module_version": "1.2.0",
      "_view_name": "StyleView",
      "bar_color": null,
      "description_width": ""
     }
    },
    "1f8b21318cf8494fb1a330963659f4ec": {
     "model_module": "@jupyter-widgets/controls",
     "model_module_version": "1.5.0",
     "model_name": "HTMLModel",
     "state": {
      "_dom_classes": [],
      "_model_module": "@jupyter-widgets/controls",
      "_model_module_version": "1.5.0",
      "_model_name": "HTMLModel",
      "_view_count": null,
      "_view_module": "@jupyter-widgets/controls",
      "_view_module_version": "1.5.0",
      "_view_name": "HTMLView",
      "description": "",
      "description_tooltip": null,
      "layout": "IPY_MODEL_216956ee5f284cd2b6de0517325a1d40",
      "placeholder": "​",
      "style": "IPY_MODEL_6857de3ed87f48d5a48cea4f2dedbfdb",
      "value": "HopSkipJump: 100%"
     }
    },
    "2000887bbd1842dbb5d8d934d556ce69": {
     "model_module": "@jupyter-widgets/base",
     "model_module_version": "1.2.0",
     "model_name": "LayoutModel",
     "state": {
      "_model_module": "@jupyter-widgets/base",
      "_model_module_version": "1.2.0",
      "_model_name": "LayoutModel",
      "_view_count": null,
      "_view_module": "@jupyter-widgets/base",
      "_view_module_version": "1.2.0",
      "_view_name": "LayoutView",
      "align_content": null,
      "align_items": null,
      "align_self": null,
      "border": null,
      "bottom": null,
      "display": null,
      "flex": null,
      "flex_flow": null,
      "grid_area": null,
      "grid_auto_columns": null,
      "grid_auto_flow": null,
      "grid_auto_rows": null,
      "grid_column": null,
      "grid_gap": null,
      "grid_row": null,
      "grid_template_areas": null,
      "grid_template_columns": null,
      "grid_template_rows": null,
      "height": null,
      "justify_content": null,
      "justify_items": null,
      "left": null,
      "margin": null,
      "max_height": null,
      "max_width": null,
      "min_height": null,
      "min_width": null,
      "object_fit": null,
      "object_position": null,
      "order": null,
      "overflow": null,
      "overflow_x": null,
      "overflow_y": null,
      "padding": null,
      "right": null,
      "top": null,
      "visibility": null,
      "width": null
     }
    },
    "216956ee5f284cd2b6de0517325a1d40": {
     "model_module": "@jupyter-widgets/base",
     "model_module_version": "1.2.0",
     "model_name": "LayoutModel",
     "state": {
      "_model_module": "@jupyter-widgets/base",
      "_model_module_version": "1.2.0",
      "_model_name": "LayoutModel",
      "_view_count": null,
      "_view_module": "@jupyter-widgets/base",
      "_view_module_version": "1.2.0",
      "_view_name": "LayoutView",
      "align_content": null,
      "align_items": null,
      "align_self": null,
      "border": null,
      "bottom": null,
      "display": null,
      "flex": null,
      "flex_flow": null,
      "grid_area": null,
      "grid_auto_columns": null,
      "grid_auto_flow": null,
      "grid_auto_rows": null,
      "grid_column": null,
      "grid_gap": null,
      "grid_row": null,
      "grid_template_areas": null,
      "grid_template_columns": null,
      "grid_template_rows": null,
      "height": null,
      "justify_content": null,
      "justify_items": null,
      "left": null,
      "margin": null,
      "max_height": null,
      "max_width": null,
      "min_height": null,
      "min_width": null,
      "object_fit": null,
      "object_position": null,
      "order": null,
      "overflow": null,
      "overflow_x": null,
      "overflow_y": null,
      "padding": null,
      "right": null,
      "top": null,
      "visibility": null,
      "width": null
     }
    },
    "533d9f3ae6b848eeb41d19dc7e03299c": {
     "model_module": "@jupyter-widgets/controls",
     "model_module_version": "1.5.0",
     "model_name": "HBoxModel",
     "state": {
      "_dom_classes": [],
      "_model_module": "@jupyter-widgets/controls",
      "_model_module_version": "1.5.0",
      "_model_name": "HBoxModel",
      "_view_count": null,
      "_view_module": "@jupyter-widgets/controls",
      "_view_module_version": "1.5.0",
      "_view_name": "HBoxView",
      "box_style": "",
      "children": [
       "IPY_MODEL_1f8b21318cf8494fb1a330963659f4ec",
       "IPY_MODEL_7d182d26147d420f94e9d54f78121fa6",
       "IPY_MODEL_d1a73132855146e9830cef9d3d6069ce"
      ],
      "layout": "IPY_MODEL_c0e910c30faf4f27b9f9ca31121d2797"
     }
    },
    "60abd44c3344461cbe92aa446d055a80": {
     "model_module": "@jupyter-widgets/base",
     "model_module_version": "1.2.0",
     "model_name": "LayoutModel",
     "state": {
      "_model_module": "@jupyter-widgets/base",
      "_model_module_version": "1.2.0",
      "_model_name": "LayoutModel",
      "_view_count": null,
      "_view_module": "@jupyter-widgets/base",
      "_view_module_version": "1.2.0",
      "_view_name": "LayoutView",
      "align_content": null,
      "align_items": null,
      "align_self": null,
      "border": null,
      "bottom": null,
      "display": null,
      "flex": null,
      "flex_flow": null,
      "grid_area": null,
      "grid_auto_columns": null,
      "grid_auto_flow": null,
      "grid_auto_rows": null,
      "grid_column": null,
      "grid_gap": null,
      "grid_row": null,
      "grid_template_areas": null,
      "grid_template_columns": null,
      "grid_template_rows": null,
      "height": null,
      "justify_content": null,
      "justify_items": null,
      "left": null,
      "margin": null,
      "max_height": null,
      "max_width": null,
      "min_height": null,
      "min_width": null,
      "object_fit": null,
      "object_position": null,
      "order": null,
      "overflow": null,
      "overflow_x": null,
      "overflow_y": null,
      "padding": null,
      "right": null,
      "top": null,
      "visibility": null,
      "width": null
     }
    },
    "60d4c03167484cd68e7555483e3f9899": {
     "model_module": "@jupyter-widgets/base",
     "model_module_version": "1.2.0",
     "model_name": "LayoutModel",
     "state": {
      "_model_module": "@jupyter-widgets/base",
      "_model_module_version": "1.2.0",
      "_model_name": "LayoutModel",
      "_view_count": null,
      "_view_module": "@jupyter-widgets/base",
      "_view_module_version": "1.2.0",
      "_view_name": "LayoutView",
      "align_content": null,
      "align_items": null,
      "align_self": null,
      "border": null,
      "bottom": null,
      "display": null,
      "flex": null,
      "flex_flow": null,
      "grid_area": null,
      "grid_auto_columns": null,
      "grid_auto_flow": null,
      "grid_auto_rows": null,
      "grid_column": null,
      "grid_gap": null,
      "grid_row": null,
      "grid_template_areas": null,
      "grid_template_columns": null,
      "grid_template_rows": null,
      "height": null,
      "justify_content": null,
      "justify_items": null,
      "left": null,
      "margin": null,
      "max_height": null,
      "max_width": null,
      "min_height": null,
      "min_width": null,
      "object_fit": null,
      "object_position": null,
      "order": null,
      "overflow": null,
      "overflow_x": null,
      "overflow_y": null,
      "padding": null,
      "right": null,
      "top": null,
      "visibility": null,
      "width": null
     }
    },
    "6857de3ed87f48d5a48cea4f2dedbfdb": {
     "model_module": "@jupyter-widgets/controls",
     "model_module_version": "1.5.0",
     "model_name": "DescriptionStyleModel",
     "state": {
      "_model_module": "@jupyter-widgets/controls",
      "_model_module_version": "1.5.0",
      "_model_name": "DescriptionStyleModel",
      "_view_count": null,
      "_view_module": "@jupyter-widgets/base",
      "_view_module_version": "1.2.0",
      "_view_name": "StyleView",
      "description_width": ""
     }
    },
    "7d182d26147d420f94e9d54f78121fa6": {
     "model_module": "@jupyter-widgets/controls",
     "model_module_version": "1.5.0",
     "model_name": "FloatProgressModel",
     "state": {
      "_dom_classes": [],
      "_model_module": "@jupyter-widgets/controls",
      "_model_module_version": "1.5.0",
      "_model_name": "FloatProgressModel",
      "_view_count": null,
      "_view_module": "@jupyter-widgets/controls",
      "_view_module_version": "1.5.0",
      "_view_name": "ProgressView",
      "bar_style": "success",
      "description": "",
      "description_tooltip": null,
      "layout": "IPY_MODEL_b619854f940f493db89c9fe070d5de01",
      "max": 10,
      "min": 0,
      "orientation": "horizontal",
      "style": "IPY_MODEL_1d68acf9f3f043d09ef1a56ee3857a1f",
      "value": 10
     }
    },
    "7ec3bb857f854133a989f0b68c5b3626": {
     "model_module": "@jupyter-widgets/base",
     "model_module_version": "1.2.0",
     "model_name": "LayoutModel",
     "state": {
      "_model_module": "@jupyter-widgets/base",
      "_model_module_version": "1.2.0",
      "_model_name": "LayoutModel",
      "_view_count": null,
      "_view_module": "@jupyter-widgets/base",
      "_view_module_version": "1.2.0",
      "_view_name": "LayoutView",
      "align_content": null,
      "align_items": null,
      "align_self": null,
      "border": null,
      "bottom": null,
      "display": null,
      "flex": null,
      "flex_flow": null,
      "grid_area": null,
      "grid_auto_columns": null,
      "grid_auto_flow": null,
      "grid_auto_rows": null,
      "grid_column": null,
      "grid_gap": null,
      "grid_row": null,
      "grid_template_areas": null,
      "grid_template_columns": null,
      "grid_template_rows": null,
      "height": null,
      "justify_content": null,
      "justify_items": null,
      "left": null,
      "margin": null,
      "max_height": null,
      "max_width": null,
      "min_height": null,
      "min_width": null,
      "object_fit": null,
      "object_position": null,
      "order": null,
      "overflow": null,
      "overflow_x": null,
      "overflow_y": null,
      "padding": null,
      "right": null,
      "top": null,
      "visibility": null,
      "width": null
     }
    },
    "89ae522d22e941e8b2b51cc08f37a5bc": {
     "model_module": "@jupyter-widgets/controls",
     "model_module_version": "1.5.0",
     "model_name": "HBoxModel",
     "state": {
      "_dom_classes": [],
      "_model_module": "@jupyter-widgets/controls",
      "_model_module_version": "1.5.0",
      "_model_name": "HBoxModel",
      "_view_count": null,
      "_view_module": "@jupyter-widgets/controls",
      "_view_module_version": "1.5.0",
      "_view_name": "HBoxView",
      "box_style": "",
      "children": [
       "IPY_MODEL_b4e3ec170fc241c3ad99b189ced57554",
       "IPY_MODEL_f05bbca217d24064b355423b22ababea",
       "IPY_MODEL_b72c5fe733914e78abae915a8ad0c885"
      ],
      "layout": "IPY_MODEL_2000887bbd1842dbb5d8d934d556ce69"
     }
    },
    "a8b8bc902d51463e84553222d4ccb651": {
     "model_module": "@jupyter-widgets/controls",
     "model_module_version": "1.5.0",
     "model_name": "ProgressStyleModel",
     "state": {
      "_model_module": "@jupyter-widgets/controls",
      "_model_module_version": "1.5.0",
      "_model_name": "ProgressStyleModel",
      "_view_count": null,
      "_view_module": "@jupyter-widgets/base",
      "_view_module_version": "1.2.0",
      "_view_name": "StyleView",
      "bar_color": null,
      "description_width": ""
     }
    },
    "b4e3ec170fc241c3ad99b189ced57554": {
     "model_module": "@jupyter-widgets/controls",
     "model_module_version": "1.5.0",
     "model_name": "HTMLModel",
     "state": {
      "_dom_classes": [],
      "_model_module": "@jupyter-widgets/controls",
      "_model_module_version": "1.5.0",
      "_model_name": "HTMLModel",
      "_view_count": null,
      "_view_module": "@jupyter-widgets/controls",
      "_view_module_version": "1.5.0",
      "_view_name": "HTMLView",
      "description": "",
      "description_tooltip": null,
      "layout": "IPY_MODEL_7ec3bb857f854133a989f0b68c5b3626",
      "placeholder": "​",
      "style": "IPY_MODEL_f811a5c876bc452ab3a4413b901bad33",
      "value": "HopSkipJump: 100%"
     }
    },
    "b619854f940f493db89c9fe070d5de01": {
     "model_module": "@jupyter-widgets/base",
     "model_module_version": "1.2.0",
     "model_name": "LayoutModel",
     "state": {
      "_model_module": "@jupyter-widgets/base",
      "_model_module_version": "1.2.0",
      "_model_name": "LayoutModel",
      "_view_count": null,
      "_view_module": "@jupyter-widgets/base",
      "_view_module_version": "1.2.0",
      "_view_name": "LayoutView",
      "align_content": null,
      "align_items": null,
      "align_self": null,
      "border": null,
      "bottom": null,
      "display": null,
      "flex": null,
      "flex_flow": null,
      "grid_area": null,
      "grid_auto_columns": null,
      "grid_auto_flow": null,
      "grid_auto_rows": null,
      "grid_column": null,
      "grid_gap": null,
      "grid_row": null,
      "grid_template_areas": null,
      "grid_template_columns": null,
      "grid_template_rows": null,
      "height": null,
      "justify_content": null,
      "justify_items": null,
      "left": null,
      "margin": null,
      "max_height": null,
      "max_width": null,
      "min_height": null,
      "min_width": null,
      "object_fit": null,
      "object_position": null,
      "order": null,
      "overflow": null,
      "overflow_x": null,
      "overflow_y": null,
      "padding": null,
      "right": null,
      "top": null,
      "visibility": null,
      "width": null
     }
    },
    "b72c5fe733914e78abae915a8ad0c885": {
     "model_module": "@jupyter-widgets/controls",
     "model_module_version": "1.5.0",
     "model_name": "HTMLModel",
     "state": {
      "_dom_classes": [],
      "_model_module": "@jupyter-widgets/controls",
      "_model_module_version": "1.5.0",
      "_model_name": "HTMLModel",
      "_view_count": null,
      "_view_module": "@jupyter-widgets/controls",
      "_view_module_version": "1.5.0",
      "_view_name": "HTMLView",
      "description": "",
      "description_tooltip": null,
      "layout": "IPY_MODEL_60d4c03167484cd68e7555483e3f9899",
      "placeholder": "​",
      "style": "IPY_MODEL_e2b5c8e2f9bb47a7bf78c254a2535e24",
      "value": " 10/10 [05:08&lt;00:00, 30.60s/it]"
     }
    },
    "bc598e4145f1490791f3b200e2156344": {
     "model_module": "@jupyter-widgets/base",
     "model_module_version": "1.2.0",
     "model_name": "LayoutModel",
     "state": {
      "_model_module": "@jupyter-widgets/base",
      "_model_module_version": "1.2.0",
      "_model_name": "LayoutModel",
      "_view_count": null,
      "_view_module": "@jupyter-widgets/base",
      "_view_module_version": "1.2.0",
      "_view_name": "LayoutView",
      "align_content": null,
      "align_items": null,
      "align_self": null,
      "border": null,
      "bottom": null,
      "display": null,
      "flex": null,
      "flex_flow": null,
      "grid_area": null,
      "grid_auto_columns": null,
      "grid_auto_flow": null,
      "grid_auto_rows": null,
      "grid_column": null,
      "grid_gap": null,
      "grid_row": null,
      "grid_template_areas": null,
      "grid_template_columns": null,
      "grid_template_rows": null,
      "height": null,
      "justify_content": null,
      "justify_items": null,
      "left": null,
      "margin": null,
      "max_height": null,
      "max_width": null,
      "min_height": null,
      "min_width": null,
      "object_fit": null,
      "object_position": null,
      "order": null,
      "overflow": null,
      "overflow_x": null,
      "overflow_y": null,
      "padding": null,
      "right": null,
      "top": null,
      "visibility": null,
      "width": null
     }
    },
    "c0e910c30faf4f27b9f9ca31121d2797": {
     "model_module": "@jupyter-widgets/base",
     "model_module_version": "1.2.0",
     "model_name": "LayoutModel",
     "state": {
      "_model_module": "@jupyter-widgets/base",
      "_model_module_version": "1.2.0",
      "_model_name": "LayoutModel",
      "_view_count": null,
      "_view_module": "@jupyter-widgets/base",
      "_view_module_version": "1.2.0",
      "_view_name": "LayoutView",
      "align_content": null,
      "align_items": null,
      "align_self": null,
      "border": null,
      "bottom": null,
      "display": null,
      "flex": null,
      "flex_flow": null,
      "grid_area": null,
      "grid_auto_columns": null,
      "grid_auto_flow": null,
      "grid_auto_rows": null,
      "grid_column": null,
      "grid_gap": null,
      "grid_row": null,
      "grid_template_areas": null,
      "grid_template_columns": null,
      "grid_template_rows": null,
      "height": null,
      "justify_content": null,
      "justify_items": null,
      "left": null,
      "margin": null,
      "max_height": null,
      "max_width": null,
      "min_height": null,
      "min_width": null,
      "object_fit": null,
      "object_position": null,
      "order": null,
      "overflow": null,
      "overflow_x": null,
      "overflow_y": null,
      "padding": null,
      "right": null,
      "top": null,
      "visibility": null,
      "width": null
     }
    },
    "d1a73132855146e9830cef9d3d6069ce": {
     "model_module": "@jupyter-widgets/controls",
     "model_module_version": "1.5.0",
     "model_name": "HTMLModel",
     "state": {
      "_dom_classes": [],
      "_model_module": "@jupyter-widgets/controls",
      "_model_module_version": "1.5.0",
      "_model_name": "HTMLModel",
      "_view_count": null,
      "_view_module": "@jupyter-widgets/controls",
      "_view_module_version": "1.5.0",
      "_view_name": "HTMLView",
      "description": "",
      "description_tooltip": null,
      "layout": "IPY_MODEL_60abd44c3344461cbe92aa446d055a80",
      "placeholder": "​",
      "style": "IPY_MODEL_e5e0f74653d54a15b075459a5af4ba44",
      "value": " 10/10 [04:15&lt;00:00, 25.64s/it]"
     }
    },
    "e2b5c8e2f9bb47a7bf78c254a2535e24": {
     "model_module": "@jupyter-widgets/controls",
     "model_module_version": "1.5.0",
     "model_name": "DescriptionStyleModel",
     "state": {
      "_model_module": "@jupyter-widgets/controls",
      "_model_module_version": "1.5.0",
      "_model_name": "DescriptionStyleModel",
      "_view_count": null,
      "_view_module": "@jupyter-widgets/base",
      "_view_module_version": "1.2.0",
      "_view_name": "StyleView",
      "description_width": ""
     }
    },
    "e5e0f74653d54a15b075459a5af4ba44": {
     "model_module": "@jupyter-widgets/controls",
     "model_module_version": "1.5.0",
     "model_name": "DescriptionStyleModel",
     "state": {
      "_model_module": "@jupyter-widgets/controls",
      "_model_module_version": "1.5.0",
      "_model_name": "DescriptionStyleModel",
      "_view_count": null,
      "_view_module": "@jupyter-widgets/base",
      "_view_module_version": "1.2.0",
      "_view_name": "StyleView",
      "description_width": ""
     }
    },
    "f05bbca217d24064b355423b22ababea": {
     "model_module": "@jupyter-widgets/controls",
     "model_module_version": "1.5.0",
     "model_name": "FloatProgressModel",
     "state": {
      "_dom_classes": [],
      "_model_module": "@jupyter-widgets/controls",
      "_model_module_version": "1.5.0",
      "_model_name": "FloatProgressModel",
      "_view_count": null,
      "_view_module": "@jupyter-widgets/controls",
      "_view_module_version": "1.5.0",
      "_view_name": "ProgressView",
      "bar_style": "success",
      "description": "",
      "description_tooltip": null,
      "layout": "IPY_MODEL_bc598e4145f1490791f3b200e2156344",
      "max": 10,
      "min": 0,
      "orientation": "horizontal",
      "style": "IPY_MODEL_a8b8bc902d51463e84553222d4ccb651",
      "value": 10
     }
    },
    "f811a5c876bc452ab3a4413b901bad33": {
     "model_module": "@jupyter-widgets/controls",
     "model_module_version": "1.5.0",
     "model_name": "DescriptionStyleModel",
     "state": {
      "_model_module": "@jupyter-widgets/controls",
      "_model_module_version": "1.5.0",
      "_model_name": "DescriptionStyleModel",
      "_view_count": null,
      "_view_module": "@jupyter-widgets/base",
      "_view_module_version": "1.2.0",
      "_view_name": "StyleView",
      "description_width": ""
     }
    }
   }
  }
 },
 "nbformat": 4,
 "nbformat_minor": 4
}
