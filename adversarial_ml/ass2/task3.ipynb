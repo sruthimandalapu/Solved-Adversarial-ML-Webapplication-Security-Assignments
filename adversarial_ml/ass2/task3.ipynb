{
 "cells": [
  {
   "cell_type": "code",
   "execution_count": 3,
   "id": "f03b544b-583c-49fd-a788-e21558141b3a",
   "metadata": {},
   "outputs": [
    {
     "name": "stdout",
     "output_type": "stream",
     "text": [
      "2.14.0\n",
      "Device mapping: no known devices.\n"
     ]
    }
   ],
   "source": [
    "#imports\n",
    "import os\n",
    "import numpy as np\n",
    "import tensorflow as tf\n",
    "#tf.compat.v1.enable_eager_execution()\n",
    "#print('Eager execution:', tf.executing_eagerly())\n",
    "print(tf.__version__)\n",
    "import matplotlib.pyplot as plt\n",
    "import datetime\n",
    "import pickle\n",
    "import pandas as pd\n",
    "import random\n",
    "\n",
    "# set random seed to be used all over\n",
    "SEED = 42\n",
    "os.environ['PYTHONHASHSEED'] = str(SEED)\n",
    "random.seed(SEED)\n",
    "np.random.seed(SEED)\n",
    "tf.random.set_seed(SEED)\n",
    "tf.keras.utils.set_random_seed(SEED)\n",
    "tf.compat.v1.set_random_seed(SEED)\n",
    "config = tf.compat.v1.ConfigProto(intra_op_parallelism_threads=1, inter_op_parallelism_threads=1,log_device_placement =True)\n",
    "config.gpu_options.allow_growth = True\n",
    "sess = tf.compat.v1.Session(graph = tf.compat.v1.get_default_graph(), config = config)\n"
   ]
  },
  {
   "cell_type": "code",
   "execution_count": 4,
   "id": "cbd9c6d8-107b-4685-86b6-61a9fcf72274",
   "metadata": {},
   "outputs": [],
   "source": [
    "# Path to the directory containing the project files (CHANGE THIS PATH TO THE DIRECTORY ON YOUR COMPUTER)\n",
    "PROJECT_ROOT_DIR = os.getcwd() + '/'\n",
    "\n",
    "# Path to the directory containing the dataset relative to project file\n",
    "DATA_DIR = './GTSRB_dataset(1)/GTSRB_dataset/'\n",
    "\n",
    "#path to the directory you want to use for saving models relative to the project file\n",
    "MODEL_DIR = './'"
   ]
  },
  {
   "cell_type": "code",
   "execution_count": 5,
   "id": "408fe627-79e4-4671-9c35-74763855efb7",
   "metadata": {},
   "outputs": [],
   "source": [
    "# Funciton for loading the dataset\n",
    "# Code from advml-traffic-sign (https://github.com/inspire-group/advml-traffic-sign)\n",
    "def load_dataset_GTSRB(n_channel=3, train_file_name=None):\n",
    "    \"\"\"\n",
    "    Load GTSRB data as a (datasize) x (channels) x (height) x (width) numpy\n",
    "    matrix. Each pixel is rescaled to the range [0,1].\n",
    "    \"\"\"\n",
    "\n",
    "    def load_pickled_data(file, columns):\n",
    "        \"\"\"\n",
    "        Loads pickled training and test data.\n",
    "\n",
    "        Parameters\n",
    "        ----------\n",
    "        file    : string\n",
    "                          Name of the pickle file.\n",
    "        columns : list of strings\n",
    "                          List of columns in pickled data we're interested in.\n",
    "\n",
    "        Returns\n",
    "        -------\n",
    "        A tuple of datasets for given columns.\n",
    "        \"\"\"\n",
    "\n",
    "        with open(file, mode='rb') as f:\n",
    "            dataset = pickle.load(f)\n",
    "        return tuple(map(lambda c: dataset[c], columns))\n",
    "\n",
    "    def preprocess(x, n_channel):\n",
    "        \"\"\"\n",
    "        Preprocess dataset: turn images into grayscale if specified, normalize\n",
    "        input space to [0,1], reshape array to appropriate shape for NN model\n",
    "        \"\"\"\n",
    "\n",
    "        if n_channel == 3:\n",
    "            # Scale features to be in [0, 1]\n",
    "            x = (x / 255.).astype(np.float32)\n",
    "        else:\n",
    "            # Convert to grayscale, e.g. single Y channel\n",
    "            x = 0.299 * x[:, :, :, 0] + 0.587 * x[:, :, :, 1] + \\\n",
    "                0.114 * x[:, :, :, 2]\n",
    "            # Scale features to be in [0, 1]\n",
    "            x = (x / 255.).astype(np.float32)\n",
    "            x = x[:, :, :, np.newaxis]\n",
    "        return x\n",
    "\n",
    "    # Load pickle dataset\n",
    "    if train_file_name is None:\n",
    "        x_train, y_train = load_pickled_data(\n",
    "            PROJECT_ROOT_DIR + DATA_DIR + 'train.p', ['features', 'labels'])\n",
    "    else:\n",
    "        x_train, y_train = load_pickled_data(\n",
    "            PROJECT_ROOT_DIR + DATA_DIR + train_file_name, ['features', 'labels'])\n",
    "    x_val, y_val = load_pickled_data(\n",
    "        PROJECT_ROOT_DIR + DATA_DIR + 'valid.p', ['features', 'labels'])\n",
    "    x_test, y_test = load_pickled_data(\n",
    "        PROJECT_ROOT_DIR + DATA_DIR + 'test.p', ['features', 'labels'])\n",
    "\n",
    "    # Preprocess loaded data\n",
    "    x_train = preprocess(x_train, n_channel)\n",
    "    x_val = preprocess(x_val, n_channel)\n",
    "    x_test = preprocess(x_test, n_channel)\n",
    "    return x_train, y_train, x_val, y_val, x_test, y_test"
   ]
  },
  {
   "cell_type": "code",
   "execution_count": 6,
   "id": "af37ae7d-c408-4905-89a5-f325652b1a7b",
   "metadata": {},
   "outputs": [],
   "source": [
    "# Load the images and labels. These images are RGB so we have 3 channels\n",
    "imgs_train, labels_train, imgs_val, labels_val, imgs_test, labels_test = load_dataset_GTSRB(n_channel=3)"
   ]
  },
  {
   "cell_type": "code",
   "execution_count": 7,
   "id": "1be0a0c3-7c88-43e0-a3c5-488a82146948",
   "metadata": {},
   "outputs": [
    {
     "data": {
      "image/png": "[encoded data removed]",
      "text/plain": [
       "<Figure size 1600x1000 with 9 Axes>"
      ]
     },
     "metadata": {},
     "output_type": "display_data"
    }
   ],
   "source": [
    "# Read the sign names\n",
    "signnames = pd.read_csv(PROJECT_ROOT_DIR + './GTSRB_dataset(1)/GTSRB_dataset/signnames.csv').values[:, 1]\n",
    "\n",
    "# Plot a few images to check if the data makes sense (note that the quality of some of the images is pretty low)\n",
    "plt.figure(figsize=(16, 10))\n",
    "for n in range(9):\n",
    "    i = np.random.randint(0, len(imgs_train), 1)\n",
    "    ax = plt.subplot(3, 3, n+1)\n",
    "    plt.imshow(imgs_train[i[0]])\n",
    "    plt.title('Label:' + str(signnames[labels_train[i[0]]]))\n",
    "    plt.axis('off')"
   ]
  },
  {
   "cell_type": "code",
   "execution_count": 8,
   "id": "51a2201d-968e-45b4-9e3e-9f30ef54f784",
   "metadata": {},
   "outputs": [],
   "source": [
    "# Set constants (GTSRB)\n",
    "NUM_LABELS = 43                             # Number of labels or classes for classification\n",
    "BATCH_SIZE = 128                            # Size of batch\n",
    "HEIGHT = 32                                 # Height of input image\n",
    "WIDTH = 32                                  # Width of input image\n",
    "N_CHANNEL = 3                               # Number of channels\n",
    "OUTPUT_DIM = 43                             # Number of output dimension\n",
    "\n",
    "# Set training hyperparameters\n",
    "NUM_EPOCH = 50                             # Number of epoch to train\n",
    "LR = 0.0002                                 # Learning rate\n",
    "RBW = True #restore best weights\n",
    "PATIENCE = 5# how many epochs between improvements\n",
    "\n",
    "INPUT_SHAPE = (HEIGHT, WIDTH, N_CHANNEL)  # Input shape of model\n",
    "IMG_SHAPE = (HEIGHT, WIDTH, N_CHANNEL)"
   ]
  },
  {
   "cell_type": "code",
   "execution_count": 9,
   "id": "36fe0820-8dbe-4f06-b58a-2938937ab018",
   "metadata": {},
   "outputs": [],
   "source": [
    "#avoiding future overfitting\n",
    "from tensorflow.keras.callbacks import EarlyStopping\n",
    "\n",
    "callbacks = [EarlyStopping(monitor='val_loss',\n",
    "                   patience = PATIENCE,\n",
    "                   restore_best_weights=RBW)]"
   ]
  },
  {
   "cell_type": "code",
   "execution_count": 10,
   "id": "d942207f-a077-4d0a-8557-49d23bf8afdf",
   "metadata": {},
   "outputs": [
    {
     "name": "stdout",
     "output_type": "stream",
     "text": [
      "Labels train shape: (34799,)\n",
      "Labels train catagorical shape: (34799, 43)\n",
      "\n",
      "Labels Adver shape: (500,)\n",
      "Labels Adver catagorical shape: (500, 43)\n",
      "Imgs Adver shape: (500, 32, 32, 3)\n"
     ]
    }
   ],
   "source": [
    "# setting up labels\n",
    "from tensorflow.keras.utils import to_categorical\n",
    "\n",
    "#Convert the labels to one-hot encoding (to input to the models)\n",
    "\n",
    "#make a copy of 500 test images before we encode for adversarial testing.\n",
    "imgs_adv = imgs_test[0:500,:,:,:].copy()\n",
    "labels_adv = labels_test[0:500].copy()\n",
    "\n",
    "\n",
    "\n",
    "\n",
    "labels_train_cat = to_categorical(labels_train, NUM_LABELS)\n",
    "labels_test_cat = to_categorical(labels_test, NUM_LABELS)\n",
    "labels_val_cat = to_categorical(labels_val, NUM_LABELS)\n",
    "\n",
    "#for testing adversarial inputs\n",
    "labels_adv_cat = to_categorical(labels_adv,NUM_LABELS)\n",
    "\n",
    "print('Labels train shape: {}'.format(labels_train.shape))\n",
    "print('Labels train catagorical shape: {}\\n'.format(labels_train_cat.shape))\n",
    "print('Labels Adver shape: {}'.format(labels_adv.shape))\n",
    "print('Labels Adver catagorical shape: {}'.format(labels_adv_cat.shape))\n",
    "\n",
    "print('Imgs Adver shape: {}'.format(imgs_adv.shape))"
   ]
  },
  {
   "cell_type": "code",
   "execution_count": 11,
   "id": "76d0fc2b-d6c7-4131-b779-51e24902e0ca",
   "metadata": {},
   "outputs": [],
   "source": [
    "from tensorflow.keras.layers import Dense, GlobalAveragePooling2D, Dropout\n",
    "from tensorflow.keras.optimizers import Adam\n",
    "from tensorflow.keras import Model\n",
    "\n",
    "\n",
    "#create our model\n",
    "def build_model():\n",
    "    #create VGG16 model with properties we want.\n",
    "    base_model = tf.keras.applications.VGG16(include_top=False,\n",
    "                                    weights=\"imagenet\",\n",
    "                                    input_shape=INPUT_SHAPE)\n",
    "\n",
    "    #create fully connected layers\n",
    "    #by not including the top we need to create these layers ourselves\n",
    "    #input and output layers\n",
    "    # Add a global spatial average pooling layer\n",
    "    x = base_model.output\n",
    "    x = GlobalAveragePooling2D()(x)\n",
    "    # Add a fully-connected layer\n",
    "    x = Dense(2048, activation='relu')(x)\n",
    "    x = Dropout(0.25)(x)\n",
    "    x = Dense(256, activation='relu')(x)\n",
    "    x = Dropout(0.25)(x)\n",
    "    # Add a softmax layer with 43 classes\n",
    "    predictions = Dense(OUTPUT_DIM, activation='softmax', name ='softmax')(x)\n",
    "\n",
    "    # The model\n",
    "    model = Model(inputs=base_model.input, outputs=predictions)\n",
    "\n",
    "    model.compile(optimizer=tf.keras.optimizers.Adam(learning_rate=LR),\n",
    "              loss='categorical_crossentropy',\n",
    "              metrics = ['accuracy'])\n",
    "\n",
    "\n",
    "\n",
    "    return model\n",
    "\n"
   ]
  },
  {
   "cell_type": "code",
   "execution_count": 37,
   "id": "ac2d9efe-8eca-4513-b4ea-ca9c785ec6f8",
   "metadata": {},
   "outputs": [],
   "source": [
    "## Load the saved the model\n",
    "from tensorflow.keras.models import load_model\n",
    "\n",
    "\n",
    "#The followiwng line should be uncommented with your first run (to save the model)\n",
    "#model.save(MODEL_DIR +'VGG_best.keras')\n",
    "\n",
    "\n",
    "#load our already trained model\n",
    "# Your earlier directories should change to match this one\n",
    "#You should be able to load the model once trained. The following line is used for that.\n",
    "model = load_model( MODEL_DIR +'vgg_best.h5')\n",
    "\n"
   ]
  },
  {
   "cell_type": "code",
   "execution_count": 13,
   "id": "68270b6a-9392-488f-9090-4adf402d225e",
   "metadata": {},
   "outputs": [],
   "source": [
    "#Task3"
   ]
  },
  {
   "cell_type": "code",
   "execution_count": 14,
   "id": "db3c62ef-821d-4d49-ad11-ed7444851d31",
   "metadata": {},
   "outputs": [],
   "source": [
    "#Adversarial Defense\n",
    "#Now let’s defend against adversarial attacks. \n",
    "#This [notebook](https://github.com/Trusted-AI/adversarial-robustness-toolbox/blob/main/notebooks/adversarial_training_mnist.ipynb) \n",
    "#is a good start for adversarial training.\n",
    "\n",
    "#Due to its complexity and the time taken to build an adversarial-trained model, we decided to give the model to you, \n",
    "#and your only task will be to analyze it. The VGG classifier from earlier parts is used to build the adversarial model. \n",
    "#New adversarial images were generated and used to build the new model. This model is provided in your assignment, and you will need to analyze it.\n"
   ]
  },
  {
   "cell_type": "code",
   "execution_count": 15,
   "id": "5c36eda6-34b9-4887-99bd-e6eea64fc768",
   "metadata": {},
   "outputs": [],
   "source": [
    "#from art.estimators.classification import KerasClassifier\n",
    "#from art.defences.trainer import AdversarialTrainer\n",
    "#from art.attacks.evasion import ProjectedGradientDescent,FastGradientMethod\n",
    "\n",
    "\n",
    "#model = load_model( MODEL_DIR +'VGG_best.h5')\n",
    "\n",
    "#robustClassifier = KerasClassifier(model=model, clip_values=(0, 1), use_logits = False)\n",
    "\n",
    "\n",
    "#attackPgd = ProjectedGradientDescent(estimator = robustClassifier,\n",
    "#                                         eps=0.1,\n",
    "#                                         max_iter=40,\n",
    "#                                         batch_size=64)\n",
    "\n",
    "\n",
    "#advTrainer = AdversarialTrainer(robustClassifier,attackFGSM,ratio=.5)\n",
    "\n",
    "\n",
    "#advTrainer.fit(imgs_train, labels_train_cat, nb_epochs=25, batch_size=16)\n",
    "\n",
    "#model.save(PROJECT_ROOT_DIR + MODEL_DIR +'adversarial_vgg.h5')"
   ]
  },
  {
   "cell_type": "code",
   "execution_count": 22,
   "id": "0a03d613-23c1-499e-8388-d0826424c7a0",
   "metadata": {},
   "outputs": [],
   "source": [
    "tf.compat.v1.disable_eager_execution()"
   ]
  },
  {
   "cell_type": "code",
   "execution_count": 44,
   "id": "ede89e9a-b6ad-4d8c-9bed-d4f81b36ec88",
   "metadata": {},
   "outputs": [],
   "source": [
    "model = load_model( MODEL_DIR +'vgg_best.h5')"
   ]
  },
  {
   "cell_type": "code",
   "execution_count": 33,
   "id": "c3a2d4c4-c4c6-4875-9a19-b055affc8c36",
   "metadata": {},
   "outputs": [],
   "source": [
    "from art.estimators.classification import KerasClassifier\n",
    "from art.attacks.evasion import FastGradientMethod\n",
    "from art.attacks.evasion import ProjectedGradientDescent"
   ]
  },
  {
   "cell_type": "code",
   "execution_count": 47,
   "id": "e52a037b-bfe6-4ac1-94ab-df3cb9d0bdb2",
   "metadata": {},
   "outputs": [
    {
     "name": "stdout",
     "output_type": "stream",
     "text": [
      "Accuracy on clean train images: 97.05%\n"
     ]
    }
   ],
   "source": [
    "# Clean train images\n",
    "accuracy_clean_train = model.evaluate(imgs_train, labels_train_cat)[1]\n",
    "print(f'Accuracy on clean train images: {accuracy_clean_train * 100:.2f}%')"
   ]
  },
  {
   "cell_type": "code",
   "execution_count": 40,
   "id": "b753cbe8-dba6-40a1-913c-3243b52bb7a1",
   "metadata": {},
   "outputs": [
    {
     "name": "stdout",
     "output_type": "stream",
     "text": [
      "Accuracy on clean test subset: 93.80%\n"
     ]
    }
   ],
   "source": [
    "# Clean subset of test images\n",
    "accuracy_clean_test = model.evaluate(imgs_test[:500], labels_test_cat[:500])[1]\n",
    "print(f'Accuracy on clean test subset: {accuracy_clean_test * 100:.2f}%')"
   ]
  },
  {
   "cell_type": "code",
   "execution_count": 45,
   "id": "cea9afed-36a1-4fc1-93d0-497885aea30a",
   "metadata": {},
   "outputs": [
    {
     "name": "stdout",
     "output_type": "stream",
     "text": [
      "Accuracy on FGSM attacked test data: 46.80%\n",
      "Average perturbation (FGSM): 0.09\n"
     ]
    }
   ],
   "source": [
    "# Attack subset of test images - FGSM\n",
    "classifier = KerasClassifier(model=model, clip_values=(0, 1))\n",
    "attack_fgsm = FastGradientMethod(estimator=classifier, eps=0.1)\n",
    "imgs_adv_fgsm = attack_fgsm.generate(imgs_adv)\n",
    "loss_test_fgsm, accuracy_test_fgsm = model.evaluate(imgs_adv_fgsm, labels_adv_cat)\n",
    "perturbation_fgsm = np.mean(np.abs((imgs_adv_fgsm - imgs_adv)))\n",
    "print(f'Accuracy on FGSM attacked test data: {accuracy_test_fgsm * 100:.2f}%')\n",
    "print(f'Average perturbation (FGSM): {perturbation_fgsm:.2f}')"
   ]
  },
  {
   "cell_type": "code",
   "execution_count": 46,
   "id": "b4dd2282-93dc-43cc-9663-60d95c8f447b",
   "metadata": {},
   "outputs": [
    {
     "data": {
      "application/vnd.jupyter.widget-view+json": {
       "model_id": "83d79ff7b5e24cf89079ad87e1f3b2ec",
       "version_major": 2,
       "version_minor": 0
      },
      "text/plain": [
       "PGD - Random Initializations:   0%|          | 0/1 [00:00<?, ?it/s]"
      ]
     },
     "metadata": {},
     "output_type": "display_data"
    },
    {
     "data": {
      "application/vnd.jupyter.widget-view+json": {
       "model_id": "",
       "version_major": 2,
       "version_minor": 0
      },
      "text/plain": [
       "PGD - Iterations:   0%|          | 0/100 [00:00<?, ?it/s]"
      ]
     },
     "metadata": {},
     "output_type": "display_data"
    },
    {
     "data": {
      "application/vnd.jupyter.widget-view+json": {
       "model_id": "9aa9314f62f54e72a53ebf352d4969fe",
       "version_major": 2,
       "version_minor": 0
      },
      "text/plain": [
       "PGD - Random Initializations:   0%|          | 0/1 [00:00<?, ?it/s]"
      ]
     },
     "metadata": {},
     "output_type": "display_data"
    },
    {
     "data": {
      "application/vnd.jupyter.widget-view+json": {
       "model_id": "",
       "version_major": 2,
       "version_minor": 0
      },
      "text/plain": [
       "PGD - Iterations:   0%|          | 0/100 [00:00<?, ?it/s]"
      ]
     },
     "metadata": {},
     "output_type": "display_data"
    },
    {
     "data": {
      "application/vnd.jupyter.widget-view+json": {
       "model_id": "195287d8557d49eaa26d6dd489ad9d9b",
       "version_major": 2,
       "version_minor": 0
      },
      "text/plain": [
       "PGD - Random Initializations:   0%|          | 0/1 [00:00<?, ?it/s]"
      ]
     },
     "metadata": {},
     "output_type": "display_data"
    },
    {
     "data": {
      "application/vnd.jupyter.widget-view+json": {
       "model_id": "",
       "version_major": 2,
       "version_minor": 0
      },
      "text/plain": [
       "PGD - Iterations:   0%|          | 0/100 [00:00<?, ?it/s]"
      ]
     },
     "metadata": {},
     "output_type": "display_data"
    },
    {
     "data": {
      "application/vnd.jupyter.widget-view+json": {
       "model_id": "f27bedeb4da645898c6c29c9dc556dd4",
       "version_major": 2,
       "version_minor": 0
      },
      "text/plain": [
       "PGD - Random Initializations:   0%|          | 0/1 [00:00<?, ?it/s]"
      ]
     },
     "metadata": {},
     "output_type": "display_data"
    },
    {
     "data": {
      "application/vnd.jupyter.widget-view+json": {
       "model_id": "",
       "version_major": 2,
       "version_minor": 0
      },
      "text/plain": [
       "PGD - Iterations:   0%|          | 0/100 [00:00<?, ?it/s]"
      ]
     },
     "metadata": {},
     "output_type": "display_data"
    },
    {
     "data": {
      "application/vnd.jupyter.widget-view+json": {
       "model_id": "69a42dc6e7f24a61a26dc7ad07af733b",
       "version_major": 2,
       "version_minor": 0
      },
      "text/plain": [
       "PGD - Random Initializations:   0%|          | 0/1 [00:00<?, ?it/s]"
      ]
     },
     "metadata": {},
     "output_type": "display_data"
    },
    {
     "data": {
      "application/vnd.jupyter.widget-view+json": {
       "model_id": "",
       "version_major": 2,
       "version_minor": 0
      },
      "text/plain": [
       "PGD - Iterations:   0%|          | 0/100 [00:00<?, ?it/s]"
      ]
     },
     "metadata": {},
     "output_type": "display_data"
    },
    {
     "data": {
      "application/vnd.jupyter.widget-view+json": {
       "model_id": "af82445d28564d0f9d2fa731f588bfd3",
       "version_major": 2,
       "version_minor": 0
      },
      "text/plain": [
       "PGD - Random Initializations:   0%|          | 0/1 [00:00<?, ?it/s]"
      ]
     },
     "metadata": {},
     "output_type": "display_data"
    },
    {
     "data": {
      "application/vnd.jupyter.widget-view+json": {
       "model_id": "",
       "version_major": 2,
       "version_minor": 0
      },
      "text/plain": [
       "PGD - Iterations:   0%|          | 0/100 [00:00<?, ?it/s]"
      ]
     },
     "metadata": {},
     "output_type": "display_data"
    },
    {
     "data": {
      "application/vnd.jupyter.widget-view+json": {
       "model_id": "50683f9ccc2a417b9becce41ac760810",
       "version_major": 2,
       "version_minor": 0
      },
      "text/plain": [
       "PGD - Random Initializations:   0%|          | 0/1 [00:00<?, ?it/s]"
      ]
     },
     "metadata": {},
     "output_type": "display_data"
    },
    {
     "data": {
      "application/vnd.jupyter.widget-view+json": {
       "model_id": "",
       "version_major": 2,
       "version_minor": 0
      },
      "text/plain": [
       "PGD - Iterations:   0%|          | 0/100 [00:00<?, ?it/s]"
      ]
     },
     "metadata": {},
     "output_type": "display_data"
    },
    {
     "data": {
      "application/vnd.jupyter.widget-view+json": {
       "model_id": "1edb73dd86d44743b9f8c68704398ac0",
       "version_major": 2,
       "version_minor": 0
      },
      "text/plain": [
       "PGD - Random Initializations:   0%|          | 0/1 [00:00<?, ?it/s]"
      ]
     },
     "metadata": {},
     "output_type": "display_data"
    },
    {
     "data": {
      "application/vnd.jupyter.widget-view+json": {
       "model_id": "",
       "version_major": 2,
       "version_minor": 0
      },
      "text/plain": [
       "PGD - Iterations:   0%|          | 0/100 [00:00<?, ?it/s]"
      ]
     },
     "metadata": {},
     "output_type": "display_data"
    },
    {
     "data": {
      "application/vnd.jupyter.widget-view+json": {
       "model_id": "11fd90b361894760a9ade933b37d01da",
       "version_major": 2,
       "version_minor": 0
      },
      "text/plain": [
       "PGD - Random Initializations:   0%|          | 0/1 [00:00<?, ?it/s]"
      ]
     },
     "metadata": {},
     "output_type": "display_data"
    },
    {
     "data": {
      "application/vnd.jupyter.widget-view+json": {
       "model_id": "",
       "version_major": 2,
       "version_minor": 0
      },
      "text/plain": [
       "PGD - Iterations:   0%|          | 0/100 [00:00<?, ?it/s]"
      ]
     },
     "metadata": {},
     "output_type": "display_data"
    },
    {
     "data": {
      "application/vnd.jupyter.widget-view+json": {
       "model_id": "c79a49cfddc54d20a18e1601fa421964",
       "version_major": 2,
       "version_minor": 0
      },
      "text/plain": [
       "PGD - Random Initializations:   0%|          | 0/1 [00:00<?, ?it/s]"
      ]
     },
     "metadata": {},
     "output_type": "display_data"
    },
    {
     "data": {
      "application/vnd.jupyter.widget-view+json": {
       "model_id": "",
       "version_major": 2,
       "version_minor": 0
      },
      "text/plain": [
       "PGD - Iterations:   0%|          | 0/100 [00:00<?, ?it/s]"
      ]
     },
     "metadata": {},
     "output_type": "display_data"
    },
    {
     "data": {
      "application/vnd.jupyter.widget-view+json": {
       "model_id": "bb66450585bd4cc7b7bc0ca917aad1fc",
       "version_major": 2,
       "version_minor": 0
      },
      "text/plain": [
       "PGD - Random Initializations:   0%|          | 0/1 [00:00<?, ?it/s]"
      ]
     },
     "metadata": {},
     "output_type": "display_data"
    },
    {
     "data": {
      "application/vnd.jupyter.widget-view+json": {
       "model_id": "",
       "version_major": 2,
       "version_minor": 0
      },
      "text/plain": [
       "PGD - Iterations:   0%|          | 0/100 [00:00<?, ?it/s]"
      ]
     },
     "metadata": {},
     "output_type": "display_data"
    },
    {
     "data": {
      "application/vnd.jupyter.widget-view+json": {
       "model_id": "54c9a7cc863a482387b5f96137290133",
       "version_major": 2,
       "version_minor": 0
      },
      "text/plain": [
       "PGD - Random Initializations:   0%|          | 0/1 [00:00<?, ?it/s]"
      ]
     },
     "metadata": {},
     "output_type": "display_data"
    },
    {
     "data": {
      "application/vnd.jupyter.widget-view+json": {
       "model_id": "",
       "version_major": 2,
       "version_minor": 0
      },
      "text/plain": [
       "PGD - Iterations:   0%|          | 0/100 [00:00<?, ?it/s]"
      ]
     },
     "metadata": {},
     "output_type": "display_data"
    },
    {
     "data": {
      "application/vnd.jupyter.widget-view+json": {
       "model_id": "b71f230341684e41ab54bac363c046ce",
       "version_major": 2,
       "version_minor": 0
      },
      "text/plain": [
       "PGD - Random Initializations:   0%|          | 0/1 [00:00<?, ?it/s]"
      ]
     },
     "metadata": {},
     "output_type": "display_data"
    },
    {
     "data": {
      "application/vnd.jupyter.widget-view+json": {
       "model_id": "",
       "version_major": 2,
       "version_minor": 0
      },
      "text/plain": [
       "PGD - Iterations:   0%|          | 0/100 [00:00<?, ?it/s]"
      ]
     },
     "metadata": {},
     "output_type": "display_data"
    },
    {
     "data": {
      "application/vnd.jupyter.widget-view+json": {
       "model_id": "1e04ead6367f45c4bc4061552d243f2e",
       "version_major": 2,
       "version_minor": 0
      },
      "text/plain": [
       "PGD - Random Initializations:   0%|          | 0/1 [00:00<?, ?it/s]"
      ]
     },
     "metadata": {},
     "output_type": "display_data"
    },
    {
     "data": {
      "application/vnd.jupyter.widget-view+json": {
       "model_id": "",
       "version_major": 2,
       "version_minor": 0
      },
      "text/plain": [
       "PGD - Iterations:   0%|          | 0/100 [00:00<?, ?it/s]"
      ]
     },
     "metadata": {},
     "output_type": "display_data"
    },
    {
     "data": {
      "application/vnd.jupyter.widget-view+json": {
       "model_id": "3aee78d3e8e94ea280a89704d4285c97",
       "version_major": 2,
       "version_minor": 0
      },
      "text/plain": [
       "PGD - Random Initializations:   0%|          | 0/1 [00:00<?, ?it/s]"
      ]
     },
     "metadata": {},
     "output_type": "display_data"
    },
    {
     "data": {
      "application/vnd.jupyter.widget-view+json": {
       "model_id": "",
       "version_major": 2,
       "version_minor": 0
      },
      "text/plain": [
       "PGD - Iterations:   0%|          | 0/100 [00:00<?, ?it/s]"
      ]
     },
     "metadata": {},
     "output_type": "display_data"
    },
    {
     "data": {
      "application/vnd.jupyter.widget-view+json": {
       "model_id": "3f7311a743b440cc8d83407cd1215129",
       "version_major": 2,
       "version_minor": 0
      },
      "text/plain": [
       "PGD - Random Initializations:   0%|          | 0/1 [00:00<?, ?it/s]"
      ]
     },
     "metadata": {},
     "output_type": "display_data"
    },
    {
     "data": {
      "application/vnd.jupyter.widget-view+json": {
       "model_id": "",
       "version_major": 2,
       "version_minor": 0
      },
      "text/plain": [
       "PGD - Iterations:   0%|          | 0/100 [00:00<?, ?it/s]"
      ]
     },
     "metadata": {},
     "output_type": "display_data"
    },
    {
     "name": "stdout",
     "output_type": "stream",
     "text": [
      "Accuracy on PGD attacked test data: 43.60%\n",
      "Average perturbation (PGD): 0.06\n"
     ]
    }
   ],
   "source": [
    "# Attack subset of test images - PGD\n",
    "attack_pgd = ProjectedGradientDescent(estimator=classifier, eps=0.1)\n",
    "imgs_adv_pgd = attack_pgd.generate(imgs_adv)\n",
    "loss_test_pgd, accuracy_test_pgd = model.evaluate(imgs_adv_pgd, labels_adv_cat)\n",
    "perturbation_pgd = np.mean(np.abs((imgs_adv_pgd - imgs_adv)))\n",
    "print(f'Accuracy on PGD attacked test data: {accuracy_test_pgd * 100:.2f}%')\n",
    "print(f'Average perturbation (PGD): {perturbation_pgd:.2f}')"
   ]
  },
  {
   "cell_type": "code",
   "execution_count": 42,
   "id": "a82a8975-9a97-450e-a4a5-0f850c967115",
   "metadata": {},
   "outputs": [],
   "source": [
    "model = load_model( MODEL_DIR +'adversarial_pgd.h5')"
   ]
  },
  {
   "cell_type": "code",
   "execution_count": 35,
   "id": "a90c934a-4b2a-47b4-be7b-d1d7ac0dbd6a",
   "metadata": {},
   "outputs": [
    {
     "name": "stdout",
     "output_type": "stream",
     "text": [
      "Accuracy on clean train images: 99.73%\n"
     ]
    }
   ],
   "source": [
    "# Clean train images\n",
    "accuracy_clean_train = model.evaluate(imgs_train, labels_train_cat)[1]\n",
    "print(f'Accuracy on clean train images: {accuracy_clean_train * 100:.2f}%')"
   ]
  },
  {
   "cell_type": "code",
   "execution_count": 36,
   "id": "d53918d0-92de-4bf2-b2f2-3d643c061ac6",
   "metadata": {},
   "outputs": [
    {
     "name": "stdout",
     "output_type": "stream",
     "text": [
      "Accuracy on clean test subset: 96.60%\n"
     ]
    }
   ],
   "source": [
    "# Clean subset of test images\n",
    "accuracy_clean_test = model.evaluate(imgs_test[:500], labels_test_cat[:500])[1]\n",
    "print(f'Accuracy on clean test subset: {accuracy_clean_test * 100:.2f}%')"
   ]
  },
  {
   "cell_type": "code",
   "execution_count": 43,
   "id": "e9a363d0-b729-40c2-a885-3b2ac5569ac8",
   "metadata": {},
   "outputs": [
    {
     "name": "stdout",
     "output_type": "stream",
     "text": [
      "Accuracy on FGSM attacked test data: 44.20%\n",
      "Average perturbation (FGSM): 0.09\n"
     ]
    }
   ],
   "source": [
    "# Attack subset of test images - FGSM\n",
    "attack_fgsm = FastGradientMethod(estimator=classifier, eps=0.1)\n",
    "imgs_adv_fgsm = attack_fgsm.generate(imgs_adv)\n",
    "loss_test_fgsm, accuracy_test_fgsm = model.evaluate(imgs_adv_fgsm, labels_adv_cat)\n",
    "perturbation_fgsm = np.mean(np.abs((imgs_adv_fgsm - imgs_adv)))\n",
    "print(f'Accuracy on FGSM attacked test data: {accuracy_test_fgsm * 100:.2f}%')\n",
    "print(f'Average perturbation (FGSM): {perturbation_fgsm:.2f}')"
   ]
  },
  {
   "cell_type": "code",
   "execution_count": 34,
   "id": "4871ed45-1c2e-4535-9296-c0e94b4c98f6",
   "metadata": {},
   "outputs": [
    {
     "data": {
      "application/vnd.jupyter.widget-view+json": {
       "model_id": "68c24888ea614d9f810ac26d06c69b8f",
       "version_major": 2,
       "version_minor": 0
      },
      "text/plain": [
       "PGD - Random Initializations:   0%|          | 0/1 [00:00<?, ?it/s]"
      ]
     },
     "metadata": {},
     "output_type": "display_data"
    },
    {
     "data": {
      "application/vnd.jupyter.widget-view+json": {
       "model_id": "",
       "version_major": 2,
       "version_minor": 0
      },
      "text/plain": [
       "PGD - Iterations:   0%|          | 0/100 [00:00<?, ?it/s]"
      ]
     },
     "metadata": {},
     "output_type": "display_data"
    },
    {
     "data": {
      "application/vnd.jupyter.widget-view+json": {
       "model_id": "c9cb9daf66504e71ac8165f10e37be74",
       "version_major": 2,
       "version_minor": 0
      },
      "text/plain": [
       "PGD - Random Initializations:   0%|          | 0/1 [00:00<?, ?it/s]"
      ]
     },
     "metadata": {},
     "output_type": "display_data"
    },
    {
     "data": {
      "application/vnd.jupyter.widget-view+json": {
       "model_id": "",
       "version_major": 2,
       "version_minor": 0
      },
      "text/plain": [
       "PGD - Iterations:   0%|          | 0/100 [00:00<?, ?it/s]"
      ]
     },
     "metadata": {},
     "output_type": "display_data"
    },
    {
     "data": {
      "application/vnd.jupyter.widget-view+json": {
       "model_id": "35fc823b8bf549c7837bab199f89858c",
       "version_major": 2,
       "version_minor": 0
      },
      "text/plain": [
       "PGD - Random Initializations:   0%|          | 0/1 [00:00<?, ?it/s]"
      ]
     },
     "metadata": {},
     "output_type": "display_data"
    },
    {
     "data": {
      "application/vnd.jupyter.widget-view+json": {
       "model_id": "",
       "version_major": 2,
       "version_minor": 0
      },
      "text/plain": [
       "PGD - Iterations:   0%|          | 0/100 [00:00<?, ?it/s]"
      ]
     },
     "metadata": {},
     "output_type": "display_data"
    },
    {
     "data": {
      "application/vnd.jupyter.widget-view+json": {
       "model_id": "a3ed33ff8b344600960f7140adb3e65f",
       "version_major": 2,
       "version_minor": 0
      },
      "text/plain": [
       "PGD - Random Initializations:   0%|          | 0/1 [00:00<?, ?it/s]"
      ]
     },
     "metadata": {},
     "output_type": "display_data"
    },
    {
     "data": {
      "application/vnd.jupyter.widget-view+json": {
       "model_id": "",
       "version_major": 2,
       "version_minor": 0
      },
      "text/plain": [
       "PGD - Iterations:   0%|          | 0/100 [00:00<?, ?it/s]"
      ]
     },
     "metadata": {},
     "output_type": "display_data"
    },
    {
     "data": {
      "application/vnd.jupyter.widget-view+json": {
       "model_id": "26872cfbd6cf427e8d9cc080c73e8d81",
       "version_major": 2,
       "version_minor": 0
      },
      "text/plain": [
       "PGD - Random Initializations:   0%|          | 0/1 [00:00<?, ?it/s]"
      ]
     },
     "metadata": {},
     "output_type": "display_data"
    },
    {
     "data": {
      "application/vnd.jupyter.widget-view+json": {
       "model_id": "",
       "version_major": 2,
       "version_minor": 0
      },
      "text/plain": [
       "PGD - Iterations:   0%|          | 0/100 [00:00<?, ?it/s]"
      ]
     },
     "metadata": {},
     "output_type": "display_data"
    },
    {
     "data": {
      "application/vnd.jupyter.widget-view+json": {
       "model_id": "7399e52429f241baa0986eda4599de32",
       "version_major": 2,
       "version_minor": 0
      },
      "text/plain": [
       "PGD - Random Initializations:   0%|          | 0/1 [00:00<?, ?it/s]"
      ]
     },
     "metadata": {},
     "output_type": "display_data"
    },
    {
     "data": {
      "application/vnd.jupyter.widget-view+json": {
       "model_id": "",
       "version_major": 2,
       "version_minor": 0
      },
      "text/plain": [
       "PGD - Iterations:   0%|          | 0/100 [00:00<?, ?it/s]"
      ]
     },
     "metadata": {},
     "output_type": "display_data"
    },
    {
     "data": {
      "application/vnd.jupyter.widget-view+json": {
       "model_id": "bca7235f64e8467d8ab982d53b977b7b",
       "version_major": 2,
       "version_minor": 0
      },
      "text/plain": [
       "PGD - Random Initializations:   0%|          | 0/1 [00:00<?, ?it/s]"
      ]
     },
     "metadata": {},
     "output_type": "display_data"
    },
    {
     "data": {
      "application/vnd.jupyter.widget-view+json": {
       "model_id": "",
       "version_major": 2,
       "version_minor": 0
      },
      "text/plain": [
       "PGD - Iterations:   0%|          | 0/100 [00:00<?, ?it/s]"
      ]
     },
     "metadata": {},
     "output_type": "display_data"
    },
    {
     "data": {
      "application/vnd.jupyter.widget-view+json": {
       "model_id": "9972e99fafe144fb9a57634f34872ec8",
       "version_major": 2,
       "version_minor": 0
      },
      "text/plain": [
       "PGD - Random Initializations:   0%|          | 0/1 [00:00<?, ?it/s]"
      ]
     },
     "metadata": {},
     "output_type": "display_data"
    },
    {
     "data": {
      "application/vnd.jupyter.widget-view+json": {
       "model_id": "",
       "version_major": 2,
       "version_minor": 0
      },
      "text/plain": [
       "PGD - Iterations:   0%|          | 0/100 [00:00<?, ?it/s]"
      ]
     },
     "metadata": {},
     "output_type": "display_data"
    },
    {
     "data": {
      "application/vnd.jupyter.widget-view+json": {
       "model_id": "0d23f6458c0e4378b118e378e145e021",
       "version_major": 2,
       "version_minor": 0
      },
      "text/plain": [
       "PGD - Random Initializations:   0%|          | 0/1 [00:00<?, ?it/s]"
      ]
     },
     "metadata": {},
     "output_type": "display_data"
    },
    {
     "data": {
      "application/vnd.jupyter.widget-view+json": {
       "model_id": "",
       "version_major": 2,
       "version_minor": 0
      },
      "text/plain": [
       "PGD - Iterations:   0%|          | 0/100 [00:00<?, ?it/s]"
      ]
     },
     "metadata": {},
     "output_type": "display_data"
    },
    {
     "data": {
      "application/vnd.jupyter.widget-view+json": {
       "model_id": "3198b47c4cab4ff994101e9d877acd4a",
       "version_major": 2,
       "version_minor": 0
      },
      "text/plain": [
       "PGD - Random Initializations:   0%|          | 0/1 [00:00<?, ?it/s]"
      ]
     },
     "metadata": {},
     "output_type": "display_data"
    },
    {
     "data": {
      "application/vnd.jupyter.widget-view+json": {
       "model_id": "",
       "version_major": 2,
       "version_minor": 0
      },
      "text/plain": [
       "PGD - Iterations:   0%|          | 0/100 [00:00<?, ?it/s]"
      ]
     },
     "metadata": {},
     "output_type": "display_data"
    },
    {
     "data": {
      "application/vnd.jupyter.widget-view+json": {
       "model_id": "5b4e3afadd7a4a64ba7cb99f1884669e",
       "version_major": 2,
       "version_minor": 0
      },
      "text/plain": [
       "PGD - Random Initializations:   0%|          | 0/1 [00:00<?, ?it/s]"
      ]
     },
     "metadata": {},
     "output_type": "display_data"
    },
    {
     "data": {
      "application/vnd.jupyter.widget-view+json": {
       "model_id": "",
       "version_major": 2,
       "version_minor": 0
      },
      "text/plain": [
       "PGD - Iterations:   0%|          | 0/100 [00:00<?, ?it/s]"
      ]
     },
     "metadata": {},
     "output_type": "display_data"
    },
    {
     "data": {
      "application/vnd.jupyter.widget-view+json": {
       "model_id": "4190af6935b94d18862156da6f8806aa",
       "version_major": 2,
       "version_minor": 0
      },
      "text/plain": [
       "PGD - Random Initializations:   0%|          | 0/1 [00:00<?, ?it/s]"
      ]
     },
     "metadata": {},
     "output_type": "display_data"
    },
    {
     "data": {
      "application/vnd.jupyter.widget-view+json": {
       "model_id": "",
       "version_major": 2,
       "version_minor": 0
      },
      "text/plain": [
       "PGD - Iterations:   0%|          | 0/100 [00:00<?, ?it/s]"
      ]
     },
     "metadata": {},
     "output_type": "display_data"
    },
    {
     "data": {
      "application/vnd.jupyter.widget-view+json": {
       "model_id": "624b21ab69ff49d6bafd31d68de76e1b",
       "version_major": 2,
       "version_minor": 0
      },
      "text/plain": [
       "PGD - Random Initializations:   0%|          | 0/1 [00:00<?, ?it/s]"
      ]
     },
     "metadata": {},
     "output_type": "display_data"
    },
    {
     "data": {
      "application/vnd.jupyter.widget-view+json": {
       "model_id": "",
       "version_major": 2,
       "version_minor": 0
      },
      "text/plain": [
       "PGD - Iterations:   0%|          | 0/100 [00:00<?, ?it/s]"
      ]
     },
     "metadata": {},
     "output_type": "display_data"
    },
    {
     "data": {
      "application/vnd.jupyter.widget-view+json": {
       "model_id": "5bb083fe779848f3a6c55597a197a4c9",
       "version_major": 2,
       "version_minor": 0
      },
      "text/plain": [
       "PGD - Random Initializations:   0%|          | 0/1 [00:00<?, ?it/s]"
      ]
     },
     "metadata": {},
     "output_type": "display_data"
    },
    {
     "data": {
      "application/vnd.jupyter.widget-view+json": {
       "model_id": "",
       "version_major": 2,
       "version_minor": 0
      },
      "text/plain": [
       "PGD - Iterations:   0%|          | 0/100 [00:00<?, ?it/s]"
      ]
     },
     "metadata": {},
     "output_type": "display_data"
    },
    {
     "data": {
      "application/vnd.jupyter.widget-view+json": {
       "model_id": "200802f39d1549dda676156b3dabb07f",
       "version_major": 2,
       "version_minor": 0
      },
      "text/plain": [
       "PGD - Random Initializations:   0%|          | 0/1 [00:00<?, ?it/s]"
      ]
     },
     "metadata": {},
     "output_type": "display_data"
    },
    {
     "data": {
      "application/vnd.jupyter.widget-view+json": {
       "model_id": "",
       "version_major": 2,
       "version_minor": 0
      },
      "text/plain": [
       "PGD - Iterations:   0%|          | 0/100 [00:00<?, ?it/s]"
      ]
     },
     "metadata": {},
     "output_type": "display_data"
    },
    {
     "data": {
      "application/vnd.jupyter.widget-view+json": {
       "model_id": "0a2c417e64f647cc960a9c8642e06b3e",
       "version_major": 2,
       "version_minor": 0
      },
      "text/plain": [
       "PGD - Random Initializations:   0%|          | 0/1 [00:00<?, ?it/s]"
      ]
     },
     "metadata": {},
     "output_type": "display_data"
    },
    {
     "data": {
      "application/vnd.jupyter.widget-view+json": {
       "model_id": "",
       "version_major": 2,
       "version_minor": 0
      },
      "text/plain": [
       "PGD - Iterations:   0%|          | 0/100 [00:00<?, ?it/s]"
      ]
     },
     "metadata": {},
     "output_type": "display_data"
    },
    {
     "name": "stdout",
     "output_type": "stream",
     "text": [
      "Accuracy on PGD attacked test data: 81.20%\n",
      "Average perturbation (PGD): 0.06\n"
     ]
    }
   ],
   "source": [
    "# Attack subset of test images - PGD\n",
    "attack_pgd = ProjectedGradientDescent(estimator=classifier, eps=0.1)\n",
    "imgs_adv_pgd = attack_pgd.generate(imgs_adv)\n",
    "loss_test_pgd, accuracy_test_pgd = model.evaluate(imgs_adv_pgd, labels_adv_cat)\n",
    "perturbation_pgd = np.mean(np.abs((imgs_adv_pgd - imgs_adv)))\n",
    "print(f'Accuracy on PGD attacked test data: {accuracy_test_pgd * 100:.2f}%')\n",
    "print(f'Average perturbation (PGD): {perturbation_pgd:.2f}')"
   ]
  },
  {
   "cell_type": "code",
   "execution_count": null,
   "id": "2d97d6cd-2122-45cc-9a45-c5ffe7668231",
   "metadata": {},
   "outputs": [],
   "source": []
  }
 ],
 "metadata": {
  "kernelspec": {
   "display_name": "Python 3 (ipykernel)",
   "language": "python",
   "name": "python3"
  },
  "language_info": {
   "codemirror_mode": {
    "name": "ipython",
    "version": 3
   },
   "file_extension": ".py",
   "mimetype": "text/x-python",
   "name": "python",
   "nbconvert_exporter": "python",
   "pygments_lexer": "ipython3",
   "version": "3.11.5"
  }
 },
 "nbformat": 4,
 "nbformat_minor": 5
}
