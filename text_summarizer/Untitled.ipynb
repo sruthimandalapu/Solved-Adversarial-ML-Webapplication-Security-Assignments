{
 "cells": [
  {
   "cell_type": "code",
   "execution_count": 1,
   "id": "3c029690-e32e-46ef-8689-f0ba25cc4c4f",
   "metadata": {},
   "outputs": [
    {
     "name": "stdout",
     "output_type": "stream",
     "text": [
      "Netflix (NFLX) reported Tuesday it now has 208 million subscribers globally . that number missed expectations and the forecasts for its next quarter were also pretty weak . the company's lackluster user growth last quarter is a signal that it wouldn't hurt if Netflix started thinking about other ways to make money . the company's stock dropped as much as 8% on Wednesday, leading some to wonder what the future of the streamer looks like if competition continues to gain strength and people start heading outdoors .\n"
     ]
    }
   ],
   "source": [
    "import torch\n",
    "from transformers import AutoTokenizer, AutoModelForSeq2SeqLM\n",
    "model = AutoModelForSeq2SeqLM.from_pretrained('t5-base')\n",
    "tokenizer = AutoTokenizer.from_pretrained('t5-base')\n",
    "text = \"\"\"New York (CNN Business)Netflix is synonymous with streaming, but its competitors have a distinct advantage that threatens the streaming leader's position at the top.Disney has Disney+, but it also has theme parks, plush Baby Yoda dolls, blockbuster Marvel movies and ESPN. Comcast (CMCSA), Amazon (AMZN), ViacomCBS (VIACA), CNN's parent company WarnerMedia and Apple (AAPL) all have their own streaming services, too, but they also have other forms of revenue.As for Netflix (NFLX), its revenue driver is based entirely on building its subscriber base. It's worked out well for the company — so far. But it's starting to look like the king of streaming will soon need something other than new subscribers to keep growing.The streaming service reported Tuesday it now has 208 million subscribers globally, after adding 4 million subscribers in the first quarter of 2021. But that number missed expectations and the forecasts for its next quarter were also pretty weak.That was a big whiff for Netflix — a company coming off a massive year of growth thanks in large part to the pandemic driving people indoors — and Wall Street's reaction has not been great.The company's stock dropped as much as 8% on Wednesday, leading some to wonder what the future of the streamer looks like if competition continues to gain strength, people start heading outdoors and if, most importantly, its growth slows.\"If you hit a wall with [subscriptions] then you pretty much don't have a super growth strategy anymore in your most developed markets,\" Michael Nathanson, a media analyst and founding partner at MoffettNathanson, told CNN Business. \"What can they do to take even more revenue out of the market, above and beyond streaming revenues?\"Or put another way, the company's lackluster user growth last quarter is a signal that it wouldn't hurt if Netflix — a company that's lived and died with its subscriber numbers — started thinking about other ways to make money.An ad-supported Netflix? Not so fastThere are ways for Netflix to make money other than raising prices or adding subscribers. The most obvious: selling advertising.Netflix could have 30-second commercials on their programming or get sponsors for their biggest series and films. TV has worked that way forever, why not Netflix?That's probably not going to happen, given that CEO Reed Hastings has been vocal about the unlikelihood of an ad-supported Netflix service. His reasoning: It doesn't make business sense.\"It's a judgment call... It's a belief we can build a better business, a more valuable business [without advertising],\" Hastings told Variety in September. \"You know, advertising looks easy until you get in it. Then you realize you have to rip that revenue away from other places because the total ad market isn't growing, and in fact right now it's shrinking. It's hand-to-hand combat to get people to spend less on, you know, ABC and to spend more on Netflix.\"Hastings added that \"there's much more growth in the consumer market than there is in advertising, which is pretty flat.\"He's also expressed doubts about Netflix getting into live sports or news, which could boost the service's allure to subscribers, so that's likely out, too, at least for now.So if Netflix is looking for other forms of near-term revenue to help support its hefty content budget ($17 billion in 2021 alone) then what can it do? There is one place that could be a revenue driver for Netflix, but if you're borrowing your mother's account you won't like it.Netflix could crack down on password sharing — a move that the company has been considering lately.\"Basically you're going to clean up some subscribers that are free riders,\" Nathanson said. \"That's going to help them get to a higher level of penetration, definitely, but not in long-term.\"Lackluster growth is still growthMissing projections is never good, but it's hardly the end of the world for Netflix. The company remains the market leader and most competitors are still far from taking the company on. And while Netflix's first-quarter subscriber growth wasn't great, and its forecasts for the next quarter alarmed investors, it was just one quarter.Netflix has had subscriber misses before and it's still the most dominant name in all of streaming, and even lackluster growth is still growth. It's not as if people are canceling Netflix in droves.Asked about Netflix's \"second act\" during the company's post-earnings call on Tuesday, Hastings again placed the company's focus on pleasing subscribers.\"We do want to expand. We used to do that thing shipping DVDs, and luckily we didn't get stuck with that. We didn't define that as the main thing. We define entertainment as the main thing,\" Hastings said.He added that he doesn't think Netflix will have a second act in the way Amazon has had with Amazon shopping and Amazon Web Services. Rather, Netflix will continue to improve and grow on what it already does best.\"I'll bet we end with one hopefully gigantic, hopefully defensible profit pool, and continue to improve the service for our members,\" he said. \"I wouldn't look for any large secondary pool of profits. There will be a bunch of supporting pools, like consumer products, that can be both profitable and can support the title brands.\"\"\"\n",
    "tokens_input = tokenizer.encode(\"summarize: \" + text,\n",
    "                              return_tensors='pt',\n",
    "                              max_length=512, #tokenizer.model_max_length\n",
    "                              truncation=True)\n",
    "summary_ids = model.generate(tokens_input, min_length=80, \n",
    "                           max_length=150, length_penalty=15, \n",
    "                           num_beams=2)\n",
    "summary = tokenizer.decode(summary_ids[0], skip_special_tokens=True)\n",
    "print(summary)\n"
   ]
  },
  {
   "cell_type": "code",
   "execution_count": 2,
   "id": "6876a969-2f2f-4732-914f-352573dbe5c0",
   "metadata": {},
   "outputs": [],
   "source": [
    "file=open(\"./data/block_chain_capabilities.txt\",\"r\")"
   ]
  },
  {
   "cell_type": "code",
   "execution_count": 3,
   "id": "c74d4188-a167-4776-954e-c3632ceba829",
   "metadata": {},
   "outputs": [],
   "source": [
    "FileContent=file.read().strip()"
   ]
  },
  {
   "cell_type": "code",
   "execution_count": 4,
   "id": "8c449740-a27c-4384-8c92-6c5efc6a96bf",
   "metadata": {},
   "outputs": [
    {
     "data": {
      "text/plain": [
       "\"Improved Efficiency:\\nBusiness-to-business transactions can take a lot of time and create operational bottlenecks, especially when compliance and third-party regulatory bodies are involved. Transparency and smart contracts in blockchain make such business transactions faster and more efficient.\\nFaster auditing:\\nEnterprises must be able to securely generate, exchange, archive, and reconstruct e-transactions in an auditable manner. Blockchain records are chronologically immutable, which means that all records are always ordered by time. This data transparency makes audit processing much faster.\\nAdvanced security:\\nBlockchain systems provide the high level of security and trust that modern digital transactions require. There is always a fear that someone will manipulate underlying software to generate fake money for themselves\\n-\\nHashing is Irreversible!: Hashing is quite complex, and itâ€™s impossible to alter or reverse it. No one can take a public key and come up with a private key. Also, a single change in the input could lead to a completely different ID, so small changes arenâ€™t a luxury in the system.\\n-\\nPublic key cryptography: Public key cryptography is a security feature to uniquely identify participants in the blockchain network. This mechanism generates two sets of keys for network members. One key is a public key that is common to everyone in the network. Jill's public key wouldn't have worked if John's private key had been tampered with.\\nImmutability:\\nBlockchain is immutable, meaning that once a record is added to the shared ledger, it cannot be changed. Each block is linked to the next by a hash value. Immutability is something that canâ€™t be changed or altered. This one is the top Blockchain features that ensures that the technology will remain as it is a permanent, unalterable network. As it is distributed system, every node on the system has a copy of the digital ledger.\\nDecentralized:\\nBlockchain is decentralized, meaning it is not controlled by any centralized authority. Transactions are recorded across a peer-to-peer network, removing the need for a central entity to check transactions. The network is decentralized meaning a group of nodes maintains the network making it decentralized. And with the help of blockchain, youâ€™ll have direct control over them using your private key. So, you see the decentralized structure is giving the common people their power and rights back on their assets.\\nWhy Itâ€™s So Useful? Now letâ€™s see how this blockchain feature is truly making changes â€“\\n-\\nLess Failure: Everything in the blockchain is fully organized, and as it doesnâ€™t depend on human calculations itâ€™s highly fault-tolerant. So, accidental failures of this system are not a usual output.\\n-\\nUser Control: With decentralization, users now have control over their properties. They donâ€™t have to rely on any third party to maintain their assets. All of them can do it simultaneously by themselves.\\nTransparency and Faster settlement:\\nBlockchain allows access to all transactions, making financial transactions convenient. Blockchain offers faster settlement options for banking, with almost instant settlements.\\nConsensus:\\nEvery blockchain succeeds because of the consensus algorithms. Every blockchain has a consensus to help the network make any transactions. In simple, the consensus is a decision-making process for the group of nodes active on the network. Here, the nodes can come to an agreement quickly and relatively faster. When millions of nodes are validating a transaction, a consensus is absolutely necessary for a system to run smoothly. Nodes might not trust each other, but they can trust the algorithms that run at the core of it.\\nDistributed Ledgers:\\nA public ledger will provide every information about a transaction and the participant nodes. Many people can see what really goes on in the ledger. The ledger on the network is maintained by all other users on the system. Distributed ledger responds really well to any suspicious activity or tamper. Nodes act as verifiers of the ledger. If a user wants to add a new block others would have to verify the transaction and then give the green signal. To make the blockchain features work, every active node has to maintain the ledger and participate for validation. A distributed ledger is the shared database in the blockchain network that stores the transactions, such as a shared file that everyone in the team can edit. In most shared text editors, anyone with editing rights can delete the entire file. However, distributed ledger technologies have strict rules about who can edit and how to edit. You cannot delete entries once they have been recorded\""
      ]
     },
     "execution_count": 4,
     "metadata": {},
     "output_type": "execute_result"
    }
   ],
   "source": [
    "FileContent"
   ]
  },
  {
   "cell_type": "code",
   "execution_count": 5,
   "id": "55d1536b-fd20-4978-ac0e-81c852d0bca0",
   "metadata": {},
   "outputs": [
    {
     "data": {
      "text/plain": [
       "4686"
      ]
     },
     "execution_count": 5,
     "metadata": {},
     "output_type": "execute_result"
    }
   ],
   "source": [
    "len(FileContent)"
   ]
  },
  {
   "cell_type": "code",
   "execution_count": 6,
   "id": "ca5dd5dc-9043-4233-a69b-dd3988b16a8a",
   "metadata": {},
   "outputs": [],
   "source": [
    "# import and initialize the tokenizer and model from the checkpoint\n",
    "from transformers import AutoTokenizer, AutoModelForSeq2SeqLM\n",
    "\n",
    "checkpoint = \"sshleifer/distilbart-cnn-12-6\"\n",
    "\n",
    "tokenizer = AutoTokenizer.from_pretrained(checkpoint)\n",
    "model = AutoModelForSeq2SeqLM.from_pretrained(checkpoint)"
   ]
  },
  {
   "cell_type": "code",
   "execution_count": 7,
   "id": "5d47147f-d83f-4b4c-be23-8ea5009263d4",
   "metadata": {},
   "outputs": [
    {
     "data": {
      "text/plain": [
       "1024"
      ]
     },
     "execution_count": 7,
     "metadata": {},
     "output_type": "execute_result"
    }
   ],
   "source": [
    "tokenizer.model_max_length "
   ]
  },
  {
   "cell_type": "code",
   "execution_count": 8,
   "id": "ce3a2e37-6316-4a4b-aad1-2ca5323a3194",
   "metadata": {},
   "outputs": [
    {
     "data": {
      "text/plain": [
       "1022"
      ]
     },
     "execution_count": 8,
     "metadata": {},
     "output_type": "execute_result"
    }
   ],
   "source": [
    "# max tokens excluding the special tokens\n",
    "tokenizer.max_len_single_sentence "
   ]
  },
  {
   "cell_type": "code",
   "execution_count": 9,
   "id": "a8baa483-c12b-4881-a03a-e9c50a3a7c30",
   "metadata": {},
   "outputs": [
    {
     "data": {
      "text/plain": [
       "2"
      ]
     },
     "execution_count": 9,
     "metadata": {},
     "output_type": "execute_result"
    }
   ],
   "source": [
    "# number of special tokens\n",
    "tokenizer.num_special_tokens_to_add() "
   ]
  },
  {
   "cell_type": "code",
   "execution_count": 10,
   "id": "8c641421-8622-4365-b012-5138821a1b81",
   "metadata": {},
   "outputs": [
    {
     "name": "stderr",
     "output_type": "stream",
     "text": [
      "[nltk_data] Downloading package punkt to\n",
      "[nltk_data]     C:\\Users\\SRUTHI\\AppData\\Roaming\\nltk_data...\n",
      "[nltk_data]   Package punkt is already up-to-date!\n"
     ]
    }
   ],
   "source": [
    "# extract the sentences from the document\n",
    "import nltk\n",
    "nltk.download('punkt')\n",
    "sentences = nltk.tokenize.sent_tokenize(FileContent)"
   ]
  },
  {
   "cell_type": "code",
   "execution_count": 11,
   "id": "d62eb7ce-2bf4-4800-a0b1-f3ecf6ba5c89",
   "metadata": {},
   "outputs": [
    {
     "data": {
      "text/plain": [
       "58"
      ]
     },
     "execution_count": 11,
     "metadata": {},
     "output_type": "execute_result"
    }
   ],
   "source": [
    "# find the max tokens in the longest sentence\n",
    "max([len(tokenizer.tokenize(sentence)) for sentence in sentences])"
   ]
  },
  {
   "cell_type": "code",
   "execution_count": 12,
   "id": "722a3a0b-0161-4b0c-ad4d-1a577a6e09f4",
   "metadata": {},
   "outputs": [
    {
     "data": {
      "text/plain": [
       "1"
      ]
     },
     "execution_count": 12,
     "metadata": {},
     "output_type": "execute_result"
    }
   ],
   "source": [
    "# initialize\n",
    "length = 0\n",
    "chunk = \"\"\n",
    "chunks = []\n",
    "count = -1\n",
    "for sentence in sentences:\n",
    "  count += 1\n",
    "  combined_length = len(tokenizer.tokenize(sentence)) + length # add the no. of sentence tokens to the length counter\n",
    "\n",
    "  if combined_length  <= tokenizer.max_len_single_sentence: # if it doesn't exceed\n",
    "    chunk += sentence + \" \" # add the sentence to the chunk\n",
    "    length = combined_length # update the length counter\n",
    "\n",
    "    # if it is the last sentence\n",
    "    if count == len(sentences) - 1:\n",
    "      chunks.append(chunk.strip()) # save the chunk\n",
    "    \n",
    "  else: \n",
    "    chunks.append(chunk.strip()) # save the chunk\n",
    "    \n",
    "    # reset \n",
    "    length = 0 \n",
    "    chunk = \"\"\n",
    "\n",
    "    # take care of the overflow sentence\n",
    "    chunk += sentence + \" \"\n",
    "    length = len(tokenizer.tokenize(sentence))\n",
    "len(chunks)\n"
   ]
  },
  {
   "cell_type": "code",
   "execution_count": 13,
   "id": "0b787548-d2d3-4d5c-b73d-68d60e0f3891",
   "metadata": {},
   "outputs": [
    {
     "data": {
      "text/plain": [
       "[938]"
      ]
     },
     "execution_count": 13,
     "metadata": {},
     "output_type": "execute_result"
    }
   ],
   "source": [
    "[len(tokenizer.tokenize(c)) for c in chunks]"
   ]
  },
  {
   "cell_type": "code",
   "execution_count": 14,
   "id": "9fb9ca37-e0b3-46e7-a1f9-df4491604e68",
   "metadata": {},
   "outputs": [
    {
     "data": {
      "text/plain": [
       "[940]"
      ]
     },
     "execution_count": 14,
     "metadata": {},
     "output_type": "execute_result"
    }
   ],
   "source": [
    "[len(tokenizer(c).input_ids) for c in chunks]"
   ]
  },
  {
   "cell_type": "code",
   "execution_count": 15,
   "id": "a23ed871-fdbe-4960-beb9-9e3680760385",
   "metadata": {},
   "outputs": [
    {
     "data": {
      "text/plain": [
       "940"
      ]
     },
     "execution_count": 15,
     "metadata": {},
     "output_type": "execute_result"
    }
   ],
   "source": [
    "\n",
    "sum([len(tokenizer(c).input_ids) for c in chunks])"
   ]
  },
  {
   "cell_type": "code",
   "execution_count": 16,
   "id": "75c6f7f5-4b1b-42c4-84a3-fff438747d2f",
   "metadata": {},
   "outputs": [
    {
     "data": {
      "text/plain": [
       "951"
      ]
     },
     "execution_count": 16,
     "metadata": {},
     "output_type": "execute_result"
    }
   ],
   "source": [
    "len(tokenizer(FileContent).input_ids)"
   ]
  },
  {
   "cell_type": "code",
   "execution_count": 17,
   "id": "4c02a7c6-b776-4251-aa94-e629839ba50d",
   "metadata": {},
   "outputs": [
    {
     "data": {
      "text/plain": [
       "938"
      ]
     },
     "execution_count": 17,
     "metadata": {},
     "output_type": "execute_result"
    }
   ],
   "source": [
    "sum([len(tokenizer.tokenize(c)) for c in chunks])"
   ]
  },
  {
   "cell_type": "code",
   "execution_count": 18,
   "id": "1cf019cb-c1eb-4e9c-b6fa-227d61516b93",
   "metadata": {},
   "outputs": [
    {
     "data": {
      "text/plain": [
       "949"
      ]
     },
     "execution_count": 18,
     "metadata": {},
     "output_type": "execute_result"
    }
   ],
   "source": [
    "len(tokenizer.tokenize(FileContent))"
   ]
  },
  {
   "cell_type": "code",
   "execution_count": 19,
   "id": "1570c479-8821-4979-9f21-9bc4a4749903",
   "metadata": {},
   "outputs": [],
   "source": [
    "# inputs to the model\n",
    "inputs = [tokenizer(chunk, return_tensors=\"pt\") for chunk in chunks]"
   ]
  },
  {
   "cell_type": "code",
   "execution_count": 20,
   "id": "0affd33b-ec59-4aa1-8227-cb84cf9f6bd8",
   "metadata": {},
   "outputs": [
    {
     "name": "stdout",
     "output_type": "stream",
     "text": [
      " Transactions are recorded across a peer-to-peer network, removing the need for a central entity to check transactions . The network is decentralized meaning a group of nodes maintains the network making it decentralized . Immutability is something that canâ€™t be changed or altered . Transparency and smart contracts make such business transactions faster and more efficient .\n"
     ]
    }
   ],
   "source": [
    "for input in inputs:\n",
    "  output = model.generate(**input)\n",
    "  print(tokenizer.decode(*output, skip_special_tokens=True))"
   ]
  },
  {
   "cell_type": "code",
   "execution_count": 21,
   "id": "e5b92080-e9b6-41ab-a844-270858be2494",
   "metadata": {},
   "outputs": [],
   "source": [
    "from datasets import load_dataset\n",
    "dataset = load_dataset(\"cnn_dailymail\", \"3.0.0\")"
   ]
  },
  {
   "cell_type": "code",
   "execution_count": 22,
   "id": "8236c264-35f3-4be9-9f66-af857a39e91f",
   "metadata": {},
   "outputs": [
    {
     "data": {
      "text/plain": [
       "'Editor\\'s note: In our Behind the Scenes series, CNN correspondents share their experiences in covering news and analyze the stories behind the events. Here, Soledad O\\'Brien takes users inside a jail where many of the inmates are mentally ill. An inmate housed on the \"forgotten floor,\" where many men'"
      ]
     },
     "execution_count": 22,
     "metadata": {},
     "output_type": "execute_result"
    }
   ],
   "source": [
    "dataset['train'][1]['article'][:300]"
   ]
  },
  {
   "cell_type": "code",
   "execution_count": 23,
   "id": "36f5fb1c-5f2f-4a64-a994-3cc417e8bc8c",
   "metadata": {},
   "outputs": [
    {
     "data": {
      "text/plain": [
       "'Mentally ill inmates in Miami are housed on the \"forgotten floor\"\\nJudge Steven Leifman says most are there as a result of \"avoidable felonies\"\\nWhile CNN tours facility, patient shouts: \"I am the son of the president\"\\nLeifman says the system is unjust and he\\'s fighting for change .'"
      ]
     },
     "execution_count": 23,
     "metadata": {},
     "output_type": "execute_result"
    }
   ],
   "source": [
    "dataset['train'][1]['highlights']"
   ]
  },
  {
   "cell_type": "code",
   "execution_count": 24,
   "id": "464a168a-7016-4b18-95ef-5688565bdc04",
   "metadata": {
    "scrolled": true
   },
   "outputs": [
    {
     "data": {
      "application/vnd.jupyter.widget-view+json": {
       "model_id": "f24d28f786de4a129d8c2a7da4d6f3f8",
       "version_major": 2,
       "version_minor": 0
      },
      "text/plain": [
       "config.json:   0%|          | 0.00/718 [00:00<?, ?B/s]"
      ]
     },
     "metadata": {},
     "output_type": "display_data"
    },
    {
     "name": "stderr",
     "output_type": "stream",
     "text": [
      "C:\\Users\\SRUTHI\\AppData\\Local\\Programs\\Python\\Python311\\Lib\\site-packages\\huggingface_hub\\file_download.py:139: UserWarning: `huggingface_hub` cache-system uses symlinks by default to efficiently store duplicated files but your machine does not support them in C:\\Users\\SRUTHI\\.cache\\huggingface\\hub\\models--gpt2-medium. Caching files will still work but in a degraded version that might require more space on your disk. This warning can be disabled by setting the `HF_HUB_DISABLE_SYMLINKS_WARNING` environment variable. For more details, see https://huggingface.co/docs/huggingface_hub/how-to-cache#limitations.\n",
      "To support symlinks on Windows, you either need to activate Developer Mode or to run Python as an administrator. In order to activate developer mode, see this article: https://docs.microsoft.com/en-us/windows/apps/get-started/enable-your-device-for-development\n",
      "  warnings.warn(message)\n"
     ]
    },
    {
     "data": {
      "application/vnd.jupyter.widget-view+json": {
       "model_id": "0e6868ef03cd4f819fe6009134c7e8dd",
       "version_major": 2,
       "version_minor": 0
      },
      "text/plain": [
       "model.safetensors:   0%|          | 0.00/1.52G [00:00<?, ?B/s]"
      ]
     },
     "metadata": {},
     "output_type": "display_data"
    },
    {
     "data": {
      "application/vnd.jupyter.widget-view+json": {
       "model_id": "b40b978928b64b169af7799600f171ee",
       "version_major": 2,
       "version_minor": 0
      },
      "text/plain": [
       "generation_config.json:   0%|          | 0.00/124 [00:00<?, ?B/s]"
      ]
     },
     "metadata": {},
     "output_type": "display_data"
    },
    {
     "data": {
      "application/vnd.jupyter.widget-view+json": {
       "model_id": "0636490fb1d14b988fad291c8d7316f3",
       "version_major": 2,
       "version_minor": 0
      },
      "text/plain": [
       "tokenizer_config.json:   0%|          | 0.00/26.0 [00:00<?, ?B/s]"
      ]
     },
     "metadata": {},
     "output_type": "display_data"
    },
    {
     "data": {
      "application/vnd.jupyter.widget-view+json": {
       "model_id": "713990a896a64a6786c80e547f284c4a",
       "version_major": 2,
       "version_minor": 0
      },
      "text/plain": [
       "vocab.json:   0%|          | 0.00/1.04M [00:00<?, ?B/s]"
      ]
     },
     "metadata": {},
     "output_type": "display_data"
    },
    {
     "data": {
      "application/vnd.jupyter.widget-view+json": {
       "model_id": "24bc2e206d044bc0a7b29d9344273061",
       "version_major": 2,
       "version_minor": 0
      },
      "text/plain": [
       "merges.txt:   0%|          | 0.00/456k [00:00<?, ?B/s]"
      ]
     },
     "metadata": {},
     "output_type": "display_data"
    },
    {
     "data": {
      "application/vnd.jupyter.widget-view+json": {
       "model_id": "dd45f78da611433988cb5f9c9c2cd62e",
       "version_major": 2,
       "version_minor": 0
      },
      "text/plain": [
       "tokenizer.json:   0%|          | 0.00/1.36M [00:00<?, ?B/s]"
      ]
     },
     "metadata": {},
     "output_type": "display_data"
    }
   ],
   "source": [
    "from transformers import pipeline\n",
    "\n",
    "pipe = pipeline(\"text-generation\", model=\"gpt2-medium\")"
   ]
  },
  {
   "cell_type": "code",
   "execution_count": 25,
   "id": "96d31aee-75c5-4994-879f-1146648f2217",
   "metadata": {},
   "outputs": [
    {
     "name": "stderr",
     "output_type": "stream",
     "text": [
      "Truncation was not explicitly activated but `max_length` is provided a specific value, please use `truncation=True` to explicitly truncate examples to max length. Defaulting to 'longest_first' truncation strategy. If you encode pairs of sequences (GLUE-style) with the tokenizer you can select this strategy more precisely by providing a specific strategy to `truncation`.\n",
      "Setting `pad_token_id` to `eos_token_id`:None for open-end generation.\n"
     ]
    }
   ],
   "source": [
    "dataset['train'][1]['article'][:1000]\n",
    "input_text = dataset['train'][1]['article'][:2000]\n",
    "\n",
    "query = input_text + \"\\nTL;DR:\\n\"\n",
    "\n",
    "pipe_out = pipe(query, max_length=512, clean_up_tokenization_spaces=True)"
   ]
  },
  {
   "cell_type": "code",
   "execution_count": 26,
   "id": "e4655de2-0f8e-4451-9fb8-8fad666af162",
   "metadata": {},
   "outputs": [
    {
     "data": {
      "text/plain": [
       "2000"
      ]
     },
     "execution_count": 26,
     "metadata": {},
     "output_type": "execute_result"
    }
   ],
   "source": [
    "len(input_text)"
   ]
  },
  {
   "cell_type": "code",
   "execution_count": 27,
   "id": "491c45f4-07b5-4e43-b95b-7bcb9586fa46",
   "metadata": {},
   "outputs": [
    {
     "data": {
      "text/plain": [
       "'Editor\\'s note: In our Behind the Scenes series, CNN correspondents share their experiences in covering news and analyze the stories behind the events. Here, Soledad O\\'Brien takes users inside a jail where many of the inmates are mentally ill. An inmate housed on the \"forgotten floor,\" where many mentally ill inmates are housed in Miami before trial. MIAMI, Florida (CNN) -- The ninth floor of the Miami-Dade pretrial detention facility is dubbed the \"forgotten floor.\" Here, inmates with the most severe mental illnesses are incarcerated until they\\'re ready to appear in court. Most often, they face drug charges or charges of assaulting an officer --charges that Judge Steven Leifman says are usually \"avoidable felonies.\" He says the arrests often result from confrontations with police. Mentally ill people often won\\'t do what they\\'re told when police arrive on the scene -- confrontation seems to exacerbate their illness and they become more paranoid, delusional, and less likely to follow directions, according to Leifman. So, they end up on the ninth floor severely mentally disturbed, but not getting any real help because they\\'re in jail. We toured the jail with Leifman. He is well known in Miami as an advocate for justice and the mentally ill. Even though we were not exactly welcomed with open arms by the guards, we were given permission to shoot videotape and tour the floor.  Go inside the \\'forgotten floor\\' » . At first, it\\'s hard to determine where the people are. The prisoners are wearing sleeveless robes. Imagine cutting holes for arms and feet in a heavy wool sleeping bag -- that\\'s kind of what they look like. They\\'re designed to keep the mentally ill patients from injuring themselves. That\\'s also why they have no shoes, laces or mattresses. Leifman says about one-third of all people in Miami-Dade county jails are mentally ill. So, he says, the sheer volume is overwhelming the system, and the result is what we see on the ninth floor. Of course, it is a jail, so it\\'s \\nTL;DR:\\nThe Eighth Amendment of the U.S. Constitution permits individuals to refuse to give consent to a search for whatever reason, even if the search requires an actual search.\\nThis video is taken while filming for an upcoming feature film on mental illness. It is based on work by CNN\\nCNN\\'s Soledad O\\'Brien goes undercover during detention and discusses her own time there in Miami'"
      ]
     },
     "execution_count": 27,
     "metadata": {},
     "output_type": "execute_result"
    }
   ],
   "source": [
    "pipe_out[0]['generated_text']"
   ]
  },
  {
   "cell_type": "code",
   "execution_count": 28,
   "id": "4d13ee93-bea7-4a30-a134-a826629bc8e3",
   "metadata": {},
   "outputs": [
    {
     "data": {
      "text/plain": [
       "\"The Eighth Amendment of the U.S. Constitution permits individuals to refuse to give consent to a search for whatever reason, even if the search requires an actual search.\\nThis video is taken while filming for an upcoming feature film on mental illness. It is based on work by CNN\\nCNN's Soledad O'Brien goes undercover during detention and discusses her own time there in Miami\""
      ]
     },
     "execution_count": 28,
     "metadata": {},
     "output_type": "execute_result"
    }
   ],
   "source": [
    "pipe_out[0]['generated_text'][len(query):]"
   ]
  },
  {
   "cell_type": "code",
   "execution_count": 36,
   "id": "090b2f86-4fd3-4b4e-b3fd-ccb9f4ad3891",
   "metadata": {},
   "outputs": [],
   "source": [
    "summaries = {}\n",
    "summaries['gpt2-medium-380M'] = pipe_out[0]['generated_text'][len(query):]"
   ]
  },
  {
   "cell_type": "code",
   "execution_count": 37,
   "id": "def2dda7-9bff-4fed-9e77-1ba8c9bc7d98",
   "metadata": {},
   "outputs": [],
   "source": [
    "pipe = pipeline('summarization', model='t5-base')"
   ]
  },
  {
   "cell_type": "code",
   "execution_count": 38,
   "id": "8074aaf7-9a8a-4f06-b224-3c75994802e0",
   "metadata": {},
   "outputs": [],
   "source": [
    "pipe_out = pipe(input_text)"
   ]
  },
  {
   "cell_type": "code",
   "execution_count": 39,
   "id": "d92c1aa1-bb0c-4f3d-adac-3c948b233d86",
   "metadata": {},
   "outputs": [],
   "source": [
    "summaries['t5-base-223M'] = pipe_out[0]['summary_text']"
   ]
  },
  {
   "cell_type": "code",
   "execution_count": 40,
   "id": "5544c355-662b-4bbf-8f12-8a7bf824ebb5",
   "metadata": {},
   "outputs": [],
   "source": [
    "summaries['bart-large-cnn-400M'] = pipe_out[0]['summary_text']"
   ]
  },
  {
   "cell_type": "code",
   "execution_count": 41,
   "id": "c3a7233e-854b-49e2-9b93-7e07efeb85c9",
   "metadata": {},
   "outputs": [],
   "source": [
    "pipe_out = pipe(input_text)"
   ]
  },
  {
   "cell_type": "code",
   "execution_count": 42,
   "id": "290193c4-f457-448c-931c-d5b9166aee8f",
   "metadata": {},
   "outputs": [],
   "source": [
    "summaries['pegasus-cnn-568M'] = pipe_out[0]['summary_text']"
   ]
  },
  {
   "cell_type": "code",
   "execution_count": 43,
   "id": "2ca80858-bb0d-4519-b0c3-6c29e2ff1211",
   "metadata": {
    "scrolled": true
   },
   "outputs": [
    {
     "name": "stdout",
     "output_type": "stream",
     "text": [
      "GPT2-MEDIUM-380M\n",
      "ive in its size. And although Leifman and others agree the jail is not perfect, their criticism doesn't matter. That is how they feel. Leifman says he's not worried about the public reaction. The \"forgotten floor\" is not the easiest to find, even after hours of searching. However, Leifman says, many people who have been arrested here say they feel safer when they see staff standing outside to prevent inmates from getting in or out of the jail and get them medical attention. Leifman is quick to acknowledge one way in which Miami-Dade county is improving its treatment of the mentally ill. People are getting treatment in special facilities -- such as the ''forgotten floor.'' All of the inmates are placed in mental hospitals without going to jail. It's not until September, 2014, when judges decide to approve changes in jail practices at the state and federal level, that the problem may be better understood. For example, the state will soon require, when a prisoner takes an examination, that he or she undergo an observation from someone outside the jail, to improve their experience. Leifman and others say they plan to continue efforts to improve the treatment at the jail to address the needs of the mentally ill in that area. In fact, he says, the jail plans to use its \"special needs'' policy to improve treatment for psychiatric disorders in jail population so it can help mentally ill prisoners that are unable to get medication from other types of programs. But at the same time, they concede, changes will certainly take time. Even though the problem has created major controversy, Leifman says the county and jail system have achieved an understanding.\n",
      "\n",
      "T5-BASE-223M\n",
      "mentally ill inmates housed on the \"forgotten floor\" of a pretrial detention facility in florida . inmates with the most severe mental illnesses are incarcerated until they're ready to appear . a judge says the arrests often result from confrontations with police . mentally ill people often won't do what police say, judge says .\n",
      "\n",
      "BART-LARGE-CNN-400M\n",
      "mentally ill inmates housed on the \"forgotten floor\" of a pretrial detention facility in florida . inmates with the most severe mental illnesses are incarcerated until they're ready to appear . a judge says the arrests often result from confrontations with police . mentally ill people often won't do what police say, judge says .\n",
      "\n",
      "PEGASUS-CNN-568M\n",
      "mentally ill inmates housed on the \"forgotten floor\" of a pretrial detention facility in florida . inmates with the most severe mental illnesses are incarcerated until they're ready to appear . a judge says the arrests often result from confrontations with police . mentally ill people often won't do what police say, judge says .\n",
      "\n"
     ]
    }
   ],
   "source": [
    "for model in summaries:\n",
    "  print(model.upper())\n",
    "  print(summaries[model])\n",
    "  print(\"\")"
   ]
  },
  {
   "cell_type": "code",
   "execution_count": null,
   "id": "bf0512f6-905b-4cdf-9661-ac51a06f106a",
   "metadata": {},
   "outputs": [],
   "source": []
  }
 ],
 "metadata": {
  "kernelspec": {
   "display_name": "Python 3 (ipykernel)",
   "language": "python",
   "name": "python3"
  },
  "language_info": {
   "codemirror_mode": {
    "name": "ipython",
    "version": 3
   },
   "file_extension": ".py",
   "mimetype": "text/x-python",
   "name": "python",
   "nbconvert_exporter": "python",
   "pygments_lexer": "ipython3",
   "version": "3.11.5"
  }
 },
 "nbformat": 4,
 "nbformat_minor": 5
}
